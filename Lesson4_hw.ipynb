{
  "nbformat": 4,
  "nbformat_minor": 0,
  "metadata": {
    "colab": {
      "name": "Lesson4_hw.ipynb",
      "provenance": [],
      "authorship_tag": "ABX9TyMASbplGoc/758pYNspq9kN",
      "include_colab_link": true
    },
    "kernelspec": {
      "name": "python3",
      "display_name": "Python 3"
    },
    "language_info": {
      "name": "python"
    }
  },
  "cells": [
    {
      "cell_type": "markdown",
      "metadata": {
        "id": "view-in-github",
        "colab_type": "text"
      },
      "source": [
        "<a href=\"https://colab.research.google.com/github/nedokormysh/GB_Algorithms_-_Data_Structures/blob/lesson4/Lesson4_hw.ipynb\" target=\"_parent\"><img src=\"https://colab.research.google.com/assets/colab-badge.svg\" alt=\"Open In Colab\"/></a>"
      ]
    },
    {
      "cell_type": "code",
      "execution_count": null,
      "metadata": {
        "id": "-HNqrZ-K9rDe"
      },
      "outputs": [],
      "source": [
        "import random\n",
        "import cProfile"
      ]
    },
    {
      "cell_type": "markdown",
      "source": [
        "# Задание 1.\n",
        "\n",
        "Проанализировать скорость и сложность одного любого алгоритма из разработанных в рамках домашнего задания первых трех уроков.\n",
        "Примечание. Идеальным решением будет:\n",
        "a. выбрать хорошую задачу, которую имеет смысл оценивать,\n",
        "b. написать 3 варианта кода (один у вас уже есть),\n",
        "c. проанализировать 3 варианта и выбрать оптимальный,\n",
        "d. результаты анализа вставить в виде комментариев в файл с кодом (не забудьте указать, для каких N вы проводили замеры),\n",
        "e. написать общий вывод: какой из трёх вариантов лучше и почему."
      ],
      "metadata": {
        "id": "849IgLhi3A0Z"
      }
    },
    {
      "cell_type": "markdown",
      "source": [
        "## Вариант 1.\n",
        "Проходим по массиву дважды: для поиска сначала минимального, затем новый проход для поиска второго минимального числа"
      ],
      "metadata": {
        "id": "KV1tZkoYUxPm"
      }
    },
    {
      "cell_type": "code",
      "source": [
        "n = 5\n",
        "\n",
        "def two_smallest1(n):\n",
        "\n",
        "    rndmlst = [random.randint(0, n * 3) for _ in range(n)]\n",
        "\n",
        "    min1 = 0\n",
        "    min2 = 0\n",
        "\n",
        "    for i in range(len(rndmlst)):\n",
        "        if rndmlst[i] <= rndmlst[min1]:\n",
        "            min1 = i\n",
        "\n",
        "    if min1 == min2:\n",
        "        min2 = 1\n",
        "\n",
        "    for j in range(len(rndmlst)):\n",
        "        if rndmlst[j] < rndmlst[min2] and j != min1:\n",
        "            min2 = j\n",
        "\n",
        "    min1_el = rndmlst[min1]\n",
        "    min2_el = rndmlst[min2]\n",
        "\n",
        "    print(rndmlst)\n",
        "\n",
        "    return f'2 наименьших числа: {min2_el} и {min1_el}'\n",
        "\n",
        "print(two_smallest1(5))"
      ],
      "metadata": {
        "colab": {
          "base_uri": "https://localhost:8080/"
        },
        "id": "cV0A5Ulh9uYl",
        "outputId": "85a087a0-3618-4af7-b87c-c5cb7c15634a"
      },
      "execution_count": null,
      "outputs": [
        {
          "output_type": "stream",
          "name": "stdout",
          "text": [
            "[6, 6, 12, 2, 9]\n",
            "2 наименьших числа: 6 и 2\n"
          ]
        }
      ]
    },
    {
      "cell_type": "markdown",
      "source": [
        "### Результаты timeit.\n",
        "\n",
        "(Все измерения представленные в файле производились на домашнем компьютере.)"
      ],
      "metadata": {
        "id": "gTbuWggNo50n"
      }
    },
    {
      "cell_type": "markdown",
      "source": [
        "**Длина массива: 10**\n",
        "\n",
        "python -m timeit -n 1000 -s \"import Lesson4_Task1_1\" \"Lesson4_Task1_1.two_smallest1(10)\"\n",
        "1000 loops, best of 5: 13.8 usec per loop\n",
        "\n",
        "**Длина массива: 20**\n",
        "\n",
        "python -m timeit -n 1000 -s \"import Lesson4_Task1_1\" \"Lesson4_Task1_1.two_smallest1(20)\"\n",
        "1000 loops, best of 5: 45.7 usec per loop\n",
        "\n",
        "\n",
        "**Длина массива: 50**\n",
        "\n",
        "python -m timeit -n 1000 -s \"import Lesson4_Task1_1\" \"Lesson4_Task1_1.two_smallest1(50)\"\n",
        "1000 loops, best of 5: 79.3 usec per loop\n",
        "\n",
        "**Длина массива: 100**\n",
        "\n",
        "python -m timeit -n 1000 -s \"import Lesson4_Task1_1\" \"Lesson4_Task1_1.two_smallest1(100)\"\n",
        "1000 loops, best of 5: 234 usec per loop\n",
        "\n",
        "**Длина массива: 200**\n",
        "\n",
        "python -m timeit -n 1000 -s \"import Lesson4_Task1_1\" \"Lesson4_Task1_1.two_smallest1(200)\"\n",
        "1000 loops, best of 5: 387 usec per loop\n",
        "\n",
        "**Длина массива: 500**\n",
        "\n",
        "python -m timeit -n 1000 -s \"import Lesson4_Task1_1\" \"Lesson4_Task1_1.two_smallest1(500)\"\n",
        "1000 loops, best of 5: 1.01 msec per loop\n",
        "\n",
        "**Длина массива: 1000**\n",
        "\n",
        "python -m timeit -n 1000 -s \"import Lesson4_Task1_1\" \"Lesson4_Task1_1.two_smallest1(1000)\"\n",
        "1000 loops, best of 5: 2.54 msec per loop\n",
        "\n",
        "\n",
        "Надо отметить, что у меня результаты могли отличаться в ту или иную сторону даже, если запускать постоянно с одним и тем же числом.\n",
        "Но в целом по при увеличении в двое длины массива и время на работу увеличивалось в 2 раза.\n"
      ],
      "metadata": {
        "id": "edBUVJTfZNt9"
      }
    },
    {
      "cell_type": "markdown",
      "source": [
        "### Результы cProfile."
      ],
      "metadata": {
        "id": "O3drcvzuotBF"
      }
    },
    {
      "cell_type": "markdown",
      "source": [
        "\n",
        "**cProfile.run('two_smallest1(10)')**\n",
        "\n",
        "  57 function calls in 0.000 seconds\n",
        " \n",
        "    Ordered by: standard name\n",
        " \n",
        "    ncalls  tottime  percall  cumtime  percall filename:lineno(function)\n",
        "         1    0.000    0.000    0.000    0.000 <string>:1(<module>)\n",
        "         1    0.000    0.000    0.000    0.000 Lesson4_Task1_1.py:18(two_smallest1)\n",
        "         1    0.000    0.000    0.000    0.000 Lesson4_Task1_1.py:20(<listcomp>)\n",
        "        10    0.000    0.000    0.000    0.000 random.py:238(_randbelow_with_getrandbits)\n",
        "        10    0.000    0.000    0.000    0.000 random.py:291(randrange)\n",
        "        10    0.000    0.000    0.000    0.000 random.py:335(randint)\n",
        "         1    0.000    0.000    0.000    0.000 {built-in method builtins.exec}\n",
        "         2    0.000    0.000    0.000    0.000 {built-in method builtins.len}\n",
        "        10    0.000    0.000    0.000    0.000 {method 'bit_length' of 'int' objects}\n",
        "         1    0.000    0.000    0.000    0.000 {method 'disable' of '_lsprof.Profiler' objects}\n",
        "        10    0.000    0.000    0.000    0.000 {method 'getrandbits' of '_random.Random' objects}\n",
        "\n",
        " **cProfile.run('two_smallest1(500)')**\n",
        "\n",
        " 2684 function calls in 0.001 seconds\n",
        "\n",
        "    Ordered by: standard name\n",
        "\n",
        "    ncalls  tottime  percall  cumtime  percall filename:lineno(function)\n",
        "         1    0.000    0.000    0.001    0.001 <string>:1(<module>)\n",
        "         1    0.000    0.000    0.001    0.001 Lesson4_Task1_1.py:18(two_smallest1)\n",
        "         1    0.000    0.000    0.001    0.001 Lesson4_Task1_1.py:20(<listcomp>)\n",
        "       500    0.000    0.000    0.000    0.000 random.py:238(_randbelow_with_getrandbits)\n",
        "       500    0.000    0.000    0.001    0.000 random.py:291(randrange)\n",
        "       500    0.000    0.000    0.001    0.000 random.py:335(randint)\n",
        "         1    0.000    0.000    0.001    0.001 {built-in method builtins.exec}\n",
        "         2    0.000    0.000    0.000    0.000 {built-in method builtins.len}\n",
        "       500    0.000    0.000    0.000    0.000 {method 'bit_length' of 'int' objects}\n",
        "         1    0.000    0.000    0.000    0.000 {method 'disable' of '_lsprof.Profiler' objects}\n",
        "       677    0.000    0.000    0.000    0.000 {method 'getrandbits' of '_random.Random' objects}\n",
        "\n",
        "\n",
        " **cProfile.run('two_smallest1(1000)')**\n",
        "\n",
        " 5374 function calls in 0.009 seconds\n",
        "\n",
        "    Ordered by: standard name\n",
        "\n",
        "    ncalls  tottime  percall  cumtime  percall filename:lineno(function)\n",
        "         1    0.000    0.000    0.009    0.009 <string>:1(<module>)\n",
        "         1    0.000    0.000    0.009    0.009 Lesson4_Task1_1.py:18(two_smallest1)\n",
        "         1    0.001    0.001    0.009    0.009 Lesson4_Task1_1.py:20(<listcomp>)\n",
        "      1000    0.002    0.000    0.003    0.000 random.py:238(_randbelow_with_getrandbits)\n",
        "      1000    0.002    0.000    0.005    0.000 random.py:291(randrange)\n",
        "      1000    0.002    0.000    0.008    0.000 random.py:335(randint)\n",
        "         1    0.000    0.000    0.009    0.009 {built-in method builtins.exec}\n",
        "         2    0.000    0.000    0.000    0.000 {built-in method builtins.len}\n",
        "      1000    0.000    0.000    0.000    0.000 {method 'bit_length' of 'int' objects}\n",
        "         1    0.000    0.000    0.000    0.000 {method 'disable' of '_lsprof.Profiler' objects}\n",
        "      1367    0.001    0.000    0.001    0.000 {method 'getrandbits' of '_random.Random' objects}\n"
      ],
      "metadata": {
        "id": "mI5BXSQXo0yE"
      }
    },
    {
      "cell_type": "markdown",
      "source": [
        "В принципе, по большому счёту, большая часть действий связана только с формированием массива из случайных чисел."
      ],
      "metadata": {
        "id": "yNe-mOKKp7Kd"
      }
    },
    {
      "cell_type": "markdown",
      "source": [
        "## Вариант 2. \n",
        "Вариант с проходом массива за один раз."
      ],
      "metadata": {
        "id": "bN6Hh9vRVB_I"
      }
    },
    {
      "cell_type": "code",
      "source": [
        "n = 5\n",
        "\n",
        "def two_smallest2(n):\n",
        "    rndmlst = [random.randint(0, n * 3) for _ in range(n)]\n",
        "    \n",
        "    min1 = float('inf')\n",
        "    min2 = float('inf')\n",
        "\n",
        "    for i in range(len(rndmlst)):\n",
        "        if rndmlst[i] <= min1:\n",
        "            min2 = min1\n",
        "            min1 = rndmlst[i]\n",
        "\n",
        "        elif rndmlst[i] < min2:\n",
        "            min2 = rndmlst[i]\n",
        "\n",
        "    min1_el = min1\n",
        "    min2_el = min2\n",
        "\n",
        "    print(rndmlst)\n",
        "\n",
        "    return f'2 наименьших числа: {min2_el} и {min1_el}'\n",
        "\n",
        "\n",
        "print(two_smallest2(n))"
      ],
      "metadata": {
        "colab": {
          "base_uri": "https://localhost:8080/"
        },
        "id": "S9xAJgxMJsoz",
        "outputId": "d42ed232-65da-4dd5-8775-fbff9b9843d5"
      },
      "execution_count": null,
      "outputs": [
        {
          "output_type": "stream",
          "name": "stdout",
          "text": [
            "[0, 2, 13, 15, 10]\n",
            "2 наименьших числа: 2 и 0\n"
          ]
        }
      ]
    },
    {
      "cell_type": "markdown",
      "source": [
        "### Результаты timeit."
      ],
      "metadata": {
        "id": "LRyhs2-Ovc7n"
      }
    },
    {
      "cell_type": "markdown",
      "source": [
        "**Длина массива: 10**\n",
        "\n",
        "python -m timeit -n 1000 -s \"import Lesson4_Task1_2\" \"Lesson4_Task1_2.two_smallest2(10)\"\n",
        "1000 loops, best of 5: 13.3 usec per loop\n",
        "\n",
        "**Длина массива: 20**\n",
        "\n",
        "python -m timeit -n 1000 -s \"import Lesson4_Task1_2\" \"Lesson4_Task1_2.two_smallest2(20)\"\n",
        "1000 loops, best of 5: 20.9 usec per loop\n",
        "\n",
        "**Длина массива: 50**\n",
        "\n",
        "python -m timeit -n 1000 -s \"import Lesson4_Task1_2\" \"Lesson4_Task1_2.two_smallest2(50)\"\n",
        "1000 loops, best of 5: 65.5 usec per loop\n",
        "\n",
        "**Длина массива: 100**\n",
        "\n",
        "python -m timeit -n 1000 -s \"import Lesson4_Task1_2\" \"Lesson4_Task1_2.two_smallest2(100)\"\n",
        "1000 loops, best of 5: 124 usec per loop\n",
        "\n",
        "**Длина массива: 200**\n",
        "\n",
        "python -m timeit -n 1000 -s \"import Lesson4_Task1_2\" \"Lesson4_Task1_2.two_smallest2(200)\"\n",
        "1000 loops, best of 5: 343 usec per loop\n",
        "\n",
        "**Длина массива: 500**\n",
        "\n",
        "python -m timeit -n 1000 -s \"import Lesson4_Task1_2\" \"Lesson4_Task1_2.two_smallest2(500)\"\n",
        "1000 loops, best of 5: 641 usec per loop\n",
        "\n",
        "**Длина массива: 1000**\n",
        "\n",
        "python -m timeit -n 1000 -s \"import Lesson4_Task1_2\" \"Lesson4_Task1_2.two_smallest2(1000)\"\n",
        "1000 loops, best of 5: 1.55 msec per loop\n",
        "\n",
        "В целом здесь также увеличение длины массива приводит к аналогичному увеличению скорости.\n",
        "Но скорость работы примерно в 2 раза быстрее, чем способа номер 1. По очевидным причинам, что первый способ поиска требует прохождения массива дважды. В этом же способе проход один."
      ],
      "metadata": {
        "id": "87bhrh8Jhh8F"
      }
    },
    {
      "cell_type": "markdown",
      "source": [
        "### Результат cProfile."
      ],
      "metadata": {
        "id": "G5Ri15ldspDy"
      }
    },
    {
      "cell_type": "markdown",
      "source": [
        " **cProfile.run('two_smallest2(10)')**\n",
        "\n",
        " 56 function calls in 0.000 seconds\n",
        "\n",
        "    Ordered by: standard name\n",
        "\n",
        "    ncalls  tottime  percall  cumtime  percall filename:lineno(function)\n",
        "         1    0.000    0.000    0.000    0.000 <string>:1(<module>)\n",
        "         1    0.000    0.000    0.000    0.000 Lesson4_Task1_2.py:18(two_smallest2)\n",
        "         1    0.000    0.000    0.000    0.000 Lesson4_Task1_2.py:19(<listcomp>)\n",
        "        10    0.000    0.000    0.000    0.000 random.py:238(_randbelow_with_getrandbits)\n",
        "        10    0.000    0.000    0.000    0.000 random.py:291(randrange)\n",
        "        10    0.000    0.000    0.000    0.000 random.py:335(randint)\n",
        "         1    0.000    0.000    0.000    0.000 {built-in method builtins.exec}\n",
        "         1    0.000    0.000    0.000    0.000 {built-in method builtins.len}\n",
        "        10    0.000    0.000    0.000    0.000 {method 'bit_length' of 'int' objects}\n",
        "         1    0.000    0.000    0.000    0.000 {method 'disable' of '_lsprof.Profiler' objects}\n",
        "        10    0.000    0.000    0.000    0.000 {method 'getrandbits' of '_random.Random' objects}\n",
        "\n",
        "\n",
        " **cProfile.run('two_smallest2(500)')**\n",
        "\n",
        " 2690 function calls in 0.003 seconds\n",
        "\n",
        "    Ordered by: standard name\n",
        "\n",
        "    ncalls  tottime  percall  cumtime  percall filename:lineno(function)\n",
        "         1    0.000    0.000    0.003    0.003 <string>:1(<module>)\n",
        "         1    0.000    0.000    0.003    0.003 Lesson4_Task1_2.py:18(two_smallest2)\n",
        "         1    0.000    0.000    0.003    0.003 Lesson4_Task1_2.py:19(<listcomp>)\n",
        "       500    0.001    0.000    0.001    0.000 random.py:238(_randbelow_with_getrandbits)\n",
        "       500    0.001    0.000    0.002    0.000 random.py:291(randrange)\n",
        "       500    0.000    0.000    0.002    0.000 random.py:335(randint)\n",
        "         1    0.000    0.000    0.003    0.003 {built-in method builtins.exec}\n",
        "         1    0.000    0.000    0.000    0.000 {built-in method builtins.len}\n",
        "       500    0.000    0.000    0.000    0.000 {method 'bit_length' of 'int' objects}\n",
        "         1    0.000    0.000    0.000    0.000 {method 'disable' of '_lsprof.Profiler' objects}\n",
        "       684    0.000    0.000    0.000    0.000 {method 'getrandbits' of '_random.Random' objects}\n",
        "\n",
        " **cProfile.run('two_smallest2(1000)')**\n",
        "\n",
        " 5347 function calls in 0.002 seconds\n",
        "\n",
        "    Ordered by: standard name\n",
        "\n",
        "    ncalls  tottime  percall  cumtime  percall filename:lineno(function)\n",
        "         1    0.000    0.000    0.002    0.002 <string>:1(<module>)\n",
        "         1    0.000    0.000    0.002    0.002 Lesson4_Task1_2.py:18(two_smallest2)\n",
        "         1    0.000    0.000    0.002    0.002 Lesson4_Task1_2.py:19(<listcomp>)\n",
        "      1000    0.001    0.000    0.001    0.000 random.py:238(_randbelow_with_getrandbits)\n",
        "      1000    0.001    0.000    0.002    0.000 random.py:291(randrange)\n",
        "      1000    0.000    0.000    0.002    0.000 random.py:335(randint)\n",
        "         1    0.000    0.000    0.002    0.002 {built-in method builtins.exec}\n",
        "         1    0.000    0.000    0.000    0.000 {built-in method builtins.len}\n",
        "      1000    0.000    0.000    0.000    0.000 {method 'bit_length' of 'int' objects}\n",
        "         1    0.000    0.000    0.000    0.000 {method 'disable' of '_lsprof.Profiler' objects}\n",
        "      1341    0.000    0.000    0.000    0.000 {method 'getrandbits' of '_random.Random' objects}"
      ],
      "metadata": {
        "id": "hU9GFVygsud-"
      }
    },
    {
      "cell_type": "markdown",
      "source": [
        "На мой взгляд, результат аналогичен. Большинство вызовов связаны с формированием массива."
      ],
      "metadata": {
        "id": "GqxuYBlatNAv"
      }
    },
    {
      "cell_type": "markdown",
      "source": [
        "## Вариант 3.\n",
        "Вариант с рекурсией.\n"
      ],
      "metadata": {
        "id": "mvmmOGsMVMkJ"
      }
    },
    {
      "cell_type": "code",
      "source": [
        "def two_smallest3(rndmlst=None, n=None):\n",
        "    # создание изначального массива\n",
        "    if rndmlst == None and n != None:\n",
        "        rndmlst = [random.randint(0, n * 3) for _ in range(n)]\n",
        "        print(rndmlst)\n",
        "    # собственно рабочая часть\n",
        "    if len(rndmlst) < 2:\n",
        "        raise ValueError(\"too few elements to find second_smallest\")\n",
        "    a, b = rndmlst[0], rndmlst[1]\n",
        "\n",
        "    if a <= b:\n",
        "        a, b = a, b\n",
        "    else:\n",
        "        a, b = b, a\n",
        "\n",
        "    if len(rndmlst) == 2:\n",
        "        return f'2 наименьших числа: {a} и {b}'\n",
        "\n",
        "    c, rest = rndmlst[2], rndmlst[3:]\n",
        "    if c < a:\n",
        "        return two_smallest3([c, a] + rest)\n",
        "    if c < b:\n",
        "        return two_smallest3([a, c] + rest)\n",
        "    return two_smallest3([a, b] + rest)\n",
        "\n",
        "\n",
        "print(two_smallest3(n=5))"
      ],
      "metadata": {
        "colab": {
          "base_uri": "https://localhost:8080/"
        },
        "id": "pp-Wm79XUibj",
        "outputId": "ce2ac022-4929-4f5e-e08d-b7e6516e171f"
      },
      "execution_count": null,
      "outputs": [
        {
          "output_type": "stream",
          "name": "stdout",
          "text": [
            "[12, 12, 5, 3, 3]\n",
            "2 наименьших числа: 3 и 3\n"
          ]
        }
      ]
    },
    {
      "cell_type": "markdown",
      "source": [
        "### Результаты timeit."
      ],
      "metadata": {
        "id": "2HIE5St2vkod"
      }
    },
    {
      "cell_type": "markdown",
      "source": [
        "**Длина массива: 10**\n",
        "\n",
        "python -m timeit -n 1000 -s \"import Lesson4_Task1_3\" \"Lesson4_Task1_3.two_smallest3(n = 10)\"\n",
        "1000 loops, best of 5: 35.9 usec per loop\n",
        "\n",
        "**Длина массива: 20**\n",
        "\n",
        "python -m timeit -n 1000 -s \"import Lesson4_Task1_3\" \"Lesson4_Task1_3.two_smallest3(n = 20)\"\n",
        "1000 loops, best of 5: 41.9 usec per loop\n",
        "\n",
        "**Длина массива: 50**\n",
        "\n",
        "python -m timeit -n 1000 -s \"import Lesson4_Task1_3\" \"Lesson4_Task1_3.two_smallest3(n = 50)\"\n",
        "1000 loops, best of 5: 103 usec per loop\n",
        "\n",
        "**Длина массива: 100**\n",
        "\n",
        "python -m timeit -n 1000 -s \"import Lesson4_Task1_3\" \"Lesson4_Task1_3.two_smallest3(n = 100)\"\n",
        "1000 loops, best of 5: 355 usec per loop\n",
        "\n",
        "**Длина массива: 200**\n",
        "\n",
        "python -m timeit -n 1000 -s \"import Lesson4_Task1_3\" \"Lesson4_Task1_3.two_smallest3(n = 200)\"\n",
        "1000 loops, best of 5: 615 usec per loop\n",
        "\n",
        "**Длина массива: 500**\n",
        "\n",
        "python -m timeit -n 1000 -s \"import Lesson4_Task1_3\" \"Lesson4_Task1_3.two_smallest3(n = 500)\"\n",
        "1000 loops, best of 5: 3.27 msec per loop\n",
        "\n",
        "**Длина массива: 1000**\n",
        "\n",
        "python -m timeit -n 1000 -s \"import Lesson4_Task1_3\" \"Lesson4_Task1_3.two_smallest3(n = 1000)\n",
        "RecursionError: maximum recursion depth exceeded in comparison\n",
        " \n",
        "Самый медленный способ. Плюс есть ограничение переполнения стека."
      ],
      "metadata": {
        "id": "zWqlFEfblJho"
      }
    },
    {
      "cell_type": "markdown",
      "source": [
        "### Результаты cProfile."
      ],
      "metadata": {
        "id": "57QmnQebvo2h"
      }
    },
    {
      "cell_type": "markdown",
      "source": [
        "\n",
        " **cProfile.run('two_smallest3(n = 10)')**\n",
        "\n",
        " 81 function calls (73 primitive calls) in 0.000 seconds\n",
        "\n",
        "    Ordered by: standard name\n",
        "\n",
        "    ncalls  tottime  percall  cumtime  percall filename:lineno(function)\n",
        "         1    0.000    0.000    0.000    0.000 <string>:1(<module>)\n",
        "       9/1    0.000    0.000    0.000    0.000 Lesson4_Task1_3.py:16(two_smallest3)\n",
        "         1    0.000    0.000    0.000    0.000 Lesson4_Task1_3.py:19(<listcomp>)\n",
        "        10    0.000    0.000    0.000    0.000 random.py:238(_randbelow_with_getrandbits)\n",
        "        10    0.000    0.000    0.000    0.000 random.py:291(randrange)\n",
        "        10    0.000    0.000    0.000    0.000 random.py:335(randint)\n",
        "         1    0.000    0.000    0.000    0.000 {built-in method builtins.exec}\n",
        "        18    0.000    0.000    0.000    0.000 {built-in method builtins.len}\n",
        "        10    0.000    0.000    0.000    0.000 {method 'bit_length' of 'int' objects}\n",
        "         1    0.000    0.000    0.000    0.000 {method 'disable' of '_lsprof.Profiler' objects}\n",
        "        10    0.000    0.000    0.000    0.000 {method 'getrandbits' of '_random.Random' objects}\n",
        "\n",
        " **cProfile.run('two_smallest3(n = 500)')**\n",
        "\n",
        " 4187 function calls (3689 primitive calls) in 0.021 seconds\n",
        "\n",
        "    Ordered by: standard name\n",
        "\n",
        "    ncalls  tottime  percall  cumtime  percall filename:lineno(function)\n",
        "         1    0.000    0.000    0.021    0.021 <string>:1(<module>)\n",
        "     499/1    0.019    0.000    0.021    0.021 Lesson4_Task1_3.py:16(two_smallest3)\n",
        "         1    0.000    0.000    0.002    0.002 Lesson4_Task1_3.py:19(<listcomp>)\n",
        "       500    0.001    0.000    0.001    0.000 random.py:238(_randbelow_with_getrandbits)\n",
        "       500    0.001    0.000    0.001    0.000 random.py:291(randrange)\n",
        "       500    0.000    0.000    0.002    0.000 random.py:335(randint)\n",
        "         1    0.000    0.000    0.021    0.021 {built-in method builtins.exec}\n",
        "       998    0.000    0.000    0.000    0.000 {built-in method builtins.len}\n",
        "       500    0.000    0.000    0.000    0.000 {method 'bit_length' of 'int' objects}\n",
        "         1    0.000    0.000    0.000    0.000 {method 'disable' of '_lsprof.Profiler' objects}\n",
        "       686    0.000    0.000    0.000    0.000 {method 'getrandbits' of '_random.Random' objects}\n",
        "\n",
        " **cProfile.run('two_smallest3(n = 993)')**\n",
        "\n",
        " 8331 function calls (7340 primitive calls) in 0.022 seconds\n",
        " \n",
        "    Ordered by: standard name\n",
        " \n",
        "    ncalls  tottime  percall  cumtime  percall filename:lineno(function)\n",
        "         1    0.000    0.000    0.022    0.022 <string>:1(<module>)\n",
        "     992/1    0.020    0.000    0.022    0.022 Lesson4_Task1_3.py:16(two_smallest3)\n",
        "         1    0.000    0.000    0.002    0.002 Lesson4_Task1_3.py:19(<listcomp>)\n",
        "       993    0.001    0.000    0.001    0.000 random.py:238(_randbelow_with_getrandbits)\n",
        "       993    0.001    0.000    0.001    0.000 random.py:291(randrange)\n",
        "       993    0.000    0.000    0.002    0.000 random.py:335(randint)\n",
        "         1    0.000    0.000    0.022    0.022 {built-in method builtins.exec}\n",
        "      1984    0.000    0.000    0.000    0.000 {built-in method builtins.len}\n",
        "       993    0.000    0.000    0.000    0.000 {method 'bit_length' of 'int' objects}\n",
        "         1    0.000    0.000    0.000    0.000 {method 'disable' of '_lsprof.Profiler' objects}\n",
        "      1379    0.000    0.000    0.000    0.000 {method 'getrandbits' of '_random.Random' objects}"
      ],
      "metadata": {
        "id": "Sn98y1gJvV8A"
      }
    },
    {
      "cell_type": "markdown",
      "source": [
        "До тысячи не можем дойти из-за ограничений рекурсивного метода"
      ],
      "metadata": {
        "id": "mQlZPjpJwWCf"
      }
    },
    {
      "cell_type": "markdown",
      "source": [
        "По результатам - вторая реализация механизма поиска является самой оптимальной."
      ],
      "metadata": {
        "id": "RoCZ3pnGwWzw"
      }
    },
    {
      "cell_type": "markdown",
      "source": [
        "# Задание 2.\n",
        "\n",
        "Написать два алгоритма нахождения i-го по счёту простого числа. Функция нахождения простого числа должна принимать на вход натуральное и возвращать соответствующее простое число. Проанализировать скорость и сложность алгоритмов.\n",
        "\n",
        "Первый — с помощью алгоритма «Решето Эратосфена».\n",
        "\n",
        "Примечание. Алгоритм «Решето Эратосфена» разбирался на одном из прошлых уроков. Используйте этот код и попробуйте его улучшить/оптимизировать под задачу.\n",
        "\n",
        "Второй — без использования «Решета Эратосфена».\n",
        "Примечание. Вспомните классический способ проверки числа на простоту."
      ],
      "metadata": {
        "id": "j0KhUPWQLNBf"
      }
    },
    {
      "cell_type": "markdown",
      "source": [
        "Ошибся в задании - невнимально прочёл: требовалось вывести i - ое простое число. А я вывел список."
      ],
      "metadata": {
        "id": "FN3llmfka610"
      }
    },
    {
      "cell_type": "markdown",
      "source": [
        "## Решето Эратосфена."
      ],
      "metadata": {
        "id": "YD_c5pybkPFb"
      }
    },
    {
      "cell_type": "code",
      "source": [
        "n = 100\n",
        "def sieve(limit):\n",
        "    sieve_lst = [i for i in range(limit)]\n",
        "    sieve_lst[1] = 0\n",
        "\n",
        "    for i in range(2, limit):\n",
        "        if sieve_lst[i] != 0:\n",
        "            j = i + i\n",
        "\n",
        "            while j < limit:\n",
        "                sieve_lst[j] = 0\n",
        "                j += i\n",
        "\n",
        "    result = [i for i in sieve_lst if i != 0]\n",
        "    return result\n",
        "\n",
        "print(sieve(n))"
      ],
      "metadata": {
        "colab": {
          "base_uri": "https://localhost:8080/"
        },
        "id": "VLKh_gHfkHKJ",
        "outputId": "ae78e818-c8d8-4320-c24f-36c595c09a23"
      },
      "execution_count": null,
      "outputs": [
        {
          "output_type": "stream",
          "name": "stdout",
          "text": [
            "[2, 3, 5, 7, 11, 13, 17, 19, 23, 29, 31, 37, 41, 43, 47, 53, 59, 61, 67, 71, 73, 79, 83, 89, 97]\n"
          ]
        }
      ]
    },
    {
      "cell_type": "markdown",
      "source": [
        "### Результаты."
      ],
      "metadata": {
        "id": "tHInz22VkYN8"
      }
    },
    {
      "cell_type": "markdown",
      "source": [
        "***Timeit***\n",
        "\n",
        "**n = 10**\n",
        "\n",
        "1000 loops, best of 5: 3.15 usec per loop\n",
        "\n",
        "**n = 100**\n",
        "\n",
        "1000 loops, best of 5: 27.1 usec per loop\n",
        "\n",
        "**n = 1000**\n",
        "\n",
        " 1000 loops, best of 5: 640 usec per loop\n",
        "\n",
        "\n",
        " **cProfile.run('sieve(1000)')**\n",
        "\n",
        " 6 function calls in 0.001 seconds\n",
        "\n",
        "    Ordered by: standard name\n",
        "\n",
        "    ncalls  tottime  percall  cumtime  percall filename:lineno(function)\n",
        "         1    0.000    0.000    0.001    0.001 <string>:1(<module>)\n",
        "         1    0.001    0.001    0.001    0.001 Lesson4_Task2.py:15(sieve)\n",
        "         1    0.000    0.000    0.000    0.000 Lesson4_Task2.py:16(<listcomp>)\n",
        "         1    0.000    0.000    0.000    0.000 Lesson4_Task2.py:27(<listcomp>)\n",
        "         1    0.000    0.000    0.001    0.001 {built-in method builtins.exec}\n",
        "         1    0.000    0.000    0.000    0.000 {method 'disable' of '_lsprof.Profiler' objects}\n",
        "\n",
        "Рекурсий нет. Все функции вызываются по разу\n",
        "\n",
        "Предполагаемая временная сложность решета Эратосфена O(n ** 2)\n",
        "Возможно можно улучшить код, если, например, просматривать только нечётные числа."
      ],
      "metadata": {
        "id": "tyUsszWskgs4"
      }
    },
    {
      "cell_type": "markdown",
      "source": [
        "## Перебор."
      ],
      "metadata": {
        "id": "huStm93PlMLp"
      }
    },
    {
      "cell_type": "code",
      "source": [
        "def prime_numbers_brute(limit):\n",
        "\n",
        "    if limit == 1:\n",
        "        return 2\n",
        "\n",
        "    brute_prm_lst = [2]\n",
        "\n",
        "    for i in range(3, limit, 2):\n",
        "        k = 0\n",
        "        for j in range(2, i):\n",
        "            if i % j == 0:\n",
        "                k = 1\n",
        "                break\n",
        "        if k == 0:\n",
        "            brute_prm_lst.append(i)\n",
        "\n",
        "    return brute_prm_lst\n",
        "    \n",
        "print(prime_numbers_brute(n)) "
      ],
      "metadata": {
        "colab": {
          "base_uri": "https://localhost:8080/"
        },
        "id": "Mc28jJIRlhXK",
        "outputId": "1b28a935-32e9-43aa-a95a-50dd417a9517"
      },
      "execution_count": null,
      "outputs": [
        {
          "output_type": "stream",
          "name": "stdout",
          "text": [
            "[2, 3, 5, 7, 11, 13, 17, 19, 23, 29, 31, 37, 41, 43, 47, 53, 59, 61, 67, 71, 73, 79, 83, 89, 97]\n"
          ]
        }
      ]
    },
    {
      "cell_type": "markdown",
      "source": [
        "### Результаты."
      ],
      "metadata": {
        "id": "oDYahGbFl1y4"
      }
    },
    {
      "cell_type": "markdown",
      "source": [
        "***Timeit***\n",
        "\n",
        "**n = 10**\n",
        "\n",
        "1000 loops, best of 5: 3.25 usec per loop\n",
        "\n",
        "**n = 100**\n",
        "\n",
        "1000 loops, best of 5: 80.1 usec per loop\n",
        "\n",
        "**n = 1000**\n",
        "\n",
        "1000 loops, best of 5: 8.45 msec per loop\n",
        "\n",
        "***cProfile.run('prime_numbers_brute(1000)')***\n",
        "\n",
        " 171 function calls in 0.006 seconds\n",
        "\n",
        "    Ordered by: standard name\n",
        "\n",
        "    ncalls  tottime  percall  cumtime  percall filename:lineno(function)\n",
        "         1    0.000    0.000    0.006    0.006 <string>:1(<module>)\n",
        "         1    0.006    0.006    0.006    0.006 Lesson4_Task2.py:63(prime_numbers_brute)\n",
        "         1    0.000    0.000    0.006    0.006 {built-in method builtins.exec}\n",
        "       167    0.000    0.000    0.000    0.000 {method 'append' of 'list' objects}\n",
        "         1    0.000    0.000    0.000    0.000 {method 'disable' of '_lsprof.Profiler' objects}\n",
        "\n",
        "Часто вызывается метод append.\n",
        "\n",
        "Сложность алгоритмов простого перебора и решета Эратосфена предположительно одинаковы, но по времени предложенный мной алгоритм перебора работает более медленно.\n"
      ],
      "metadata": {
        "id": "O_cor0I2l8ZZ"
      }
    }
  ]
}