{
  "cells": [
    {
      "cell_type": "markdown",
      "metadata": {
        "id": "view-in-github",
        "colab_type": "text"
      },
      "source": [
        "<a href=\"https://colab.research.google.com/github/nedokormysh/GB_Algorithms_-_Data_Structures/blob/lesson7/Lesson7_hw.ipynb\" target=\"_parent\"><img src=\"https://colab.research.google.com/assets/colab-badge.svg\" alt=\"Open In Colab\"/></a>"
      ]
    },
    {
      "cell_type": "code",
      "source": [
        "import random"
      ],
      "metadata": {
        "id": "WsJRzo6WPGAl"
      },
      "execution_count": null,
      "outputs": []
    },
    {
      "cell_type": "markdown",
      "source": [
        "# Задание 1. \n",
        "\n",
        "Отсортируйте по убыванию методом пузырька одномерный целочисленный массив, заданный случайными числами на промежутке [-100; 100). Выведите на экран исходный и отсортированный массивы.\n",
        "Примечания:\n",
        "a. алгоритм сортировки должен быть в виде функции, которая принимает на вход массив данных,\n",
        "b. постарайтесь сделать алгоритм умнее, но помните, что у вас должна остаться сортировка пузырьком. Улучшенные версии сортировки, например, расчёской, шейкерная и другие в зачёт не идут."
      ],
      "metadata": {
        "id": "G5megcN4O_Aa"
      }
    },
    {
      "cell_type": "code",
      "source": [
        "size = 10\n",
        "array = [random.randint(-100, 99) for _ in range(size)]\n",
        "\n",
        "random.shuffle(array)\n",
        "print(f'Исходный массив: {array}')\n",
        "\n",
        "\n",
        "def bubble_sort(array):\n",
        "    changed = True\n",
        "    while changed:\n",
        "        changed = False\n",
        "        for i in range(len(array) - 1):\n",
        "            for j in range(len(array) - 1 - i):\n",
        "                if array[j] < array[j + 1]:\n",
        "                    array[j], array[j + 1] = array[j + 1], array[j]\n",
        "                    changed = True\n",
        "\n",
        "\n",
        "bubble_sort(array)\n",
        "print(f'Отсортированный массив: {array}')"
      ],
      "metadata": {
        "colab": {
          "base_uri": "https://localhost:8080/"
        },
        "id": "jD85pZiYCb6f",
        "outputId": "568f7a77-733c-4975-9e6d-0a1aa3cf935c"
      },
      "execution_count": null,
      "outputs": [
        {
          "output_type": "stream",
          "name": "stdout",
          "text": [
            "Исходный массив: [98, 63, 8, 59, -98, -88, 76, 4, 85, -65]\n",
            "Отсортированный массив: [98, 85, 76, 63, 59, 8, 4, -65, -88, -98]\n"
          ]
        }
      ]
    },
    {
      "cell_type": "markdown",
      "source": [
        "# Задание 2. \n",
        "\n",
        "Отсортируйте по возрастанию методом слияния одномерный вещественный массив, заданный случайными числами на промежутке [0; 50). Выведите на экран исходный и отсортированный массивы."
      ],
      "metadata": {
        "id": "Zav-3VmtPQd1"
      }
    },
    {
      "cell_type": "code",
      "source": [
        "size = 10\n",
        "# array = [random.randint(0, 49) for _ in range(size)]\n",
        "array = [round(random.uniform(0, 50), 2) for _ in range(size)]\n",
        "\n",
        "random.shuffle(array)\n",
        "print(f'Исходный массив: {array}')\n",
        "\n",
        "\n",
        "def merge_sort(array):\n",
        "\n",
        "    def merge(array_a, array_b):\n",
        "        array_c = []\n",
        "        i = j = 0\n",
        "\n",
        "        while i < len(array_a) and j < len(array_b):\n",
        "            if array_a[i] < array_b[j]:\n",
        "                array_c.append(array_a[i])\n",
        "                i += 1\n",
        "            else:\n",
        "                array_c.append(array_b[j])\n",
        "                j += 1\n",
        "\n",
        "        array_c.extend(array_a[i:] if i < len(array_a) else array_b[j:])\n",
        "\n",
        "        return array_c\n",
        "\n",
        "    def split(array):\n",
        "\n",
        "        if len(array) == 1:\n",
        "            return array\n",
        "\n",
        "        elif len(array) == 2:\n",
        "            return array if array[0] <= array[1] else array[::-1]\n",
        "\n",
        "        else:\n",
        "            middle = len(array) // 2\n",
        "\n",
        "            left = split(array[:middle])\n",
        "            right = split(array[middle:])\n",
        "\n",
        "            return merge(left, right)\n",
        "\n",
        "    return split(array)\n",
        "\n",
        "\n",
        "print(f'Отсортированный массив: {merge_sort(array)}')"
      ],
      "metadata": {
        "colab": {
          "base_uri": "https://localhost:8080/"
        },
        "id": "-Olsvw-sPoh6",
        "outputId": "54388b15-da4e-46ad-e393-26068368f7ec"
      },
      "execution_count": null,
      "outputs": [
        {
          "output_type": "stream",
          "name": "stdout",
          "text": [
            "Исходный массив: [21.31, 0.92, 19.5, 16.53, 45.65, 24.39, 26.48, 23.46, 5.65, 46.8]\n",
            "Отсортированный массив: [0.92, 5.65, 16.53, 19.5, 21.31, 23.46, 24.39, 26.48, 45.65, 46.8]\n"
          ]
        }
      ]
    },
    {
      "cell_type": "markdown",
      "source": [
        "# Задание 3.\n",
        "\n",
        "Массив размером 2m + 1, где m — натуральное число, заполнен случайным образом. Найдите в массиве медиану. Медианой называется элемент ряда, делящий его на две равные части: в одной находятся элементы, которые не меньше медианы, в другой — не больше медианы.\n",
        "Примечание: задачу можно решить без сортировки исходного массива. Но если это слишком сложно, используйте метод сортировки, который не рассматривался на уроках (сортировка слиянием также недопустима)."
      ],
      "metadata": {
        "id": "CIFTKAreOLJ4"
      }
    },
    {
      "cell_type": "code",
      "source": [
        "size = 10\n",
        "m = 5\n",
        "len_range = 2 * m + 1\n",
        "array = [random.randint(0, 20) for _ in range(len_range)]\n",
        "\n",
        "random.shuffle(array)\n",
        "print(f'Исходный массив: {array}')\n",
        "\n",
        "\n",
        "def median_finder(array, k):\n",
        "    if len(array) == 1:\n",
        "        return array[0]\n",
        "\n",
        "    pivot = random.choice(array)\n",
        "\n",
        "    left_el = [el for el in array if el < pivot]\n",
        "    right_el = [el for el in array if el > pivot]\n",
        "    pivots = [el for el in array if el == pivot]\n",
        "\n",
        "    if k < len(left_el):\n",
        "        return median_finder(left_el, k)\n",
        "    elif k < len(left_el) + len(pivots):\n",
        "        return pivots[0]\n",
        "    else:\n",
        "        return median_finder(right_el, k - len(left_el) - len(pivots))\n",
        "\n",
        "\n",
        "print(f'Медианой списка является: {median_finder(array, len(array) / 2)}')\n",
        "array = sorted(array)\n",
        "print('\\nПроверка полученного числа при помощи отсортированного списка.')\n",
        "print(f'Список после сортировки: {array}')\n",
        "print(f'Медианой списка является: {array[len(array) // 2]}')"
      ],
      "metadata": {
        "colab": {
          "base_uri": "https://localhost:8080/"
        },
        "id": "-aqFrd0SM0AH",
        "outputId": "09870eac-b5be-4518-d433-f70158f4f689"
      },
      "execution_count": null,
      "outputs": [
        {
          "output_type": "stream",
          "name": "stdout",
          "text": [
            "Исходный массив: [8, 17, 9, 10, 15, 10, 8, 12, 7, 16, 14]\n",
            "Медианой списка является: 10\n",
            "\n",
            "Проверка полученного числа при помощи отсортированного списка.\n",
            "Список после сортировки: [7, 8, 8, 9, 10, 10, 12, 14, 15, 16, 17]\n",
            "Медианой списка является: 10\n"
          ]
        }
      ]
    }
  ],
  "metadata": {
    "colab": {
      "name": "Lesson7_hw.ipynb",
      "provenance": [],
      "collapsed_sections": [],
      "authorship_tag": "ABX9TyOQ/g7XPL3d1Du1EyHI2JzE",
      "include_colab_link": true
    },
    "kernelspec": {
      "display_name": "Python 3",
      "name": "python3"
    },
    "language_info": {
      "name": "python"
    }
  },
  "nbformat": 4,
  "nbformat_minor": 0
}