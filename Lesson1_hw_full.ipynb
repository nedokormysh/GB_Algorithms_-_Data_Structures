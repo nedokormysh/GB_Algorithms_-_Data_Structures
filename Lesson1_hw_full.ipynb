{
  "nbformat": 4,
  "nbformat_minor": 0,
  "metadata": {
    "colab": {
      "name": "Lesson1_hw_full.ipynb",
      "provenance": [],
      "authorship_tag": "ABX9TyMxcIyGpHndDkf/Rp4R7yvU",
      "include_colab_link": true
    },
    "kernelspec": {
      "name": "python3",
      "display_name": "Python 3"
    },
    "language_info": {
      "name": "python"
    }
  },
  "cells": [
    {
      "cell_type": "markdown",
      "metadata": {
        "id": "view-in-github",
        "colab_type": "text"
      },
      "source": [
        "<a href=\"https://colab.research.google.com/github/nedokormysh/GB_Algorithms_-_Data_Structures/blob/lesson1/Lesson1_hw_full.ipynb\" target=\"_parent\"><img src=\"https://colab.research.google.com/assets/colab-badge.svg\" alt=\"Open In Colab\"/></a>"
      ]
    },
    {
      "cell_type": "markdown",
      "source": [
        "# Задание 1.\n",
        "\n",
        "Выполнить логические побитовые операции «И», «ИЛИ» и др. над числами 5 и 6. Выполнить над числом 5 побитовый сдвиг вправо и влево на два знака."
      ],
      "metadata": {
        "id": "6wRiLtWGQ9gC"
      }
    },
    {
      "cell_type": "code",
      "execution_count": 1,
      "metadata": {
        "colab": {
          "base_uri": "https://localhost:8080/"
        },
        "id": "WH03RVEOPWlQ",
        "outputId": "0ebaad45-83ea-4802-e438-0c9f6e20bee7"
      },
      "outputs": [
        {
          "output_type": "stream",
          "name": "stdout",
          "text": [
            "Логические побитовые операции над числами 5 и 6:\n",
            "5 and 6 = 4\n",
            "5 or 6 = 7\n",
            "5 xor 6 = 3\n",
            "\n",
            "Побитовые сдвиги 5 на два знака вправо и влево\n",
            "5 >> 2 = 1\n",
            "5 << 2 = 20\n"
          ]
        }
      ],
      "source": [
        "print(f'Логические побитовые операции над числами 5 и 6:\\n'\n",
        "      f'5 and 6 = {5 & 6}\\n'\n",
        "      f'5 or 6 = {5 | 6}\\n'\n",
        "      f'5 xor 6 = {5 ^ 6}\\n')\n",
        "\n",
        "print('Побитовые сдвиги 5 на два знака вправо и влево')\n",
        "print(f'5 >> 2 = {5 >> 2}\\n'\n",
        "      f'5 << 2 = {5 << 2}')"
      ]
    },
    {
      "cell_type": "markdown",
      "source": [
        "# Задание 2.\n",
        "\n",
        "По введенным пользователем координатам двух точек вывести уравнение прямой вида y = kx + b, проходящей через эти точки."
      ],
      "metadata": {
        "id": "rWgkFgUvRGLP"
      }
    },
    {
      "cell_type": "code",
      "source": [
        "x1, y1 = map(float, input('Введите координаты точки 1 (координаты осей x1 и y1 необходимо ввести через пробел):\\n').split())\n",
        "x2, y2 = map(float, input('Введите координаты точки 2 (координаты осей x2 и y2 необходимо ввести через пробел):\\n').split())\n",
        "\n",
        "print(f'Вы ввели точку 1 с координатами ({x1}, {y1})\\n'\n",
        "      f'Вы ввели точку 2 с координатами ({x2}, {y2})\\n')\n",
        "\n",
        "if x1 == x2 and y1 == y2:\n",
        "    print('Координаты точек совпадают')\n",
        "elif x1 == x2:\n",
        "    print(f'Прямая параллельная оси OY и уравнение имеет вид x = {x1}')\n",
        "elif y1 == y2:\n",
        "    print(f'Прямая параллельна оси OX и уравнение имеет вид y = {y1}')\n",
        "else:\n",
        "    k = round((y1 - y2) / (x1 - x2), 2)\n",
        "    b = round(y2 - k * x2, 2)\n",
        "    if b == 0:\n",
        "        print(f'Уравнение имеет вид y = {k} * x')\n",
        "    else:\n",
        "        print(f'Уравнение имеет вид y = {k} * x + {b}')"
      ],
      "metadata": {
        "colab": {
          "base_uri": "https://localhost:8080/"
        },
        "id": "4hJ-01zaR4-5",
        "outputId": "6c38432a-81b7-42e1-f8f5-acb7c1f0bf3f"
      },
      "execution_count": 2,
      "outputs": [
        {
          "output_type": "stream",
          "name": "stdout",
          "text": [
            "Введите координаты точки 1 (координаты осей x1 и y1 необходимо ввести через пробел):\n",
            "4 5\n",
            "Введите координаты точки 2 (координаты осей x2 и y2 необходимо ввести через пробел):\n",
            "6 7\n",
            "Вы ввели точку 1 с координатами (4.0, 5.0)\n",
            "Вы ввели точку 2 с координатами (6.0, 7.0)\n",
            "\n",
            "Уравнение имеет вид y = 1.0 * x + 1.0\n"
          ]
        }
      ]
    },
    {
      "cell_type": "markdown",
      "source": [
        "# Задание 3.\n",
        "\n",
        "Написать программу, которая генерирует в указанных пользователем границах:\n",
        "a. случайное целое число,\n",
        "b. случайное вещественное число,\n",
        "c. случайный символ.\n",
        "Для каждого из трех случаев пользователь задает свои границы диапазона. Например, если надо получить случайный символ от 'a' до 'f', то вводятся эти символы. Программа должна вывести на экран любой символ алфавита от 'a' до 'f' включительно."
      ],
      "metadata": {
        "id": "-j76gM8kR6b2"
      }
    },
    {
      "cell_type": "code",
      "source": [
        "import random\n",
        "\n",
        "i_l, i_r = map(int, input('Введите границы для случайного целого числа через пробел:\\n').split())\n",
        "f_l, f_r = map(float, input('Введите границы для случайного вещественного числа через пробел:\\n').split())\n",
        "ch_r, ch_l = input('Введите границы для строчных латинских букв:\\n').split(' ')\n",
        "\n",
        "r_int = random.randint(i_l, i_r)\n",
        "r_float = round(random.uniform(f_l, f_r), 3)\n",
        "r_char = chr(random.randint(ord(ch_r), ord(ch_l)))\n",
        "\n",
        "print(f'Случайное целое число: {r_int}\\n'\n",
        "      f'Случайное вещественное число: {r_float}\\n'\n",
        "      f'Случайная буква: \"{r_char}\"')"
      ],
      "metadata": {
        "colab": {
          "base_uri": "https://localhost:8080/"
        },
        "id": "BM3-dyNjSG2l",
        "outputId": "a86aea20-2d7c-4ce1-8c8f-6e5829f65ec0"
      },
      "execution_count": 3,
      "outputs": [
        {
          "output_type": "stream",
          "name": "stdout",
          "text": [
            "Введите границы для случайного целого числа через пробел:\n",
            "4 9\n",
            "Введите границы для случайного вещественного числа через пробел:\n",
            "49 100\n",
            "Введите границы для строчных латинских букв:\n",
            "g h\n",
            "Случайное целое число: 7\n",
            "Случайное вещественное число: 84.666\n",
            "Случайная буква: \"g\"\n"
          ]
        }
      ]
    },
    {
      "cell_type": "markdown",
      "source": [
        "# Задание 4.\n",
        "\n",
        "Пользователь вводит две буквы. Определить, на каких местах алфавита они стоят, и сколько между ними находится букв."
      ],
      "metadata": {
        "id": "T9l1ql3IS1LN"
      }
    },
    {
      "cell_type": "code",
      "source": [
        "ch_1, ch_2 = input('Введите две строчные буквы латинского алфавита через пробел\\n').lower().split()\n",
        "\n",
        "pos_ch_1 = ord(ch_1) - 96\n",
        "pos_ch_2 = ord(ch_2) - 96\n",
        "dis = abs(pos_ch_2 - pos_ch_1) - 1\n",
        "\n",
        "print(f'Буква {ch_1}: {pos_ch_1} - я в латинском алфавите \\n'\n",
        "      f'Буква {ch_2}: {pos_ch_2} - я в латинском алфавите \\n'\n",
        "      f'Расстояние между буквами {dis}')"
      ],
      "metadata": {
        "colab": {
          "base_uri": "https://localhost:8080/"
        },
        "id": "17Ox5V1HS0pm",
        "outputId": "9f5523e0-d490-49b3-ac9c-1dbe8e7e07e5"
      },
      "execution_count": 4,
      "outputs": [
        {
          "output_type": "stream",
          "name": "stdout",
          "text": [
            "Введите две строчные буквы латинского алфавита через пробел\n",
            "f k\n",
            "Буква f: 6 - я в латинском алфавите \n",
            "Буква k: 11 - я в латинском алфавите \n",
            "Расстояние между буквами 4\n"
          ]
        }
      ]
    },
    {
      "cell_type": "markdown",
      "source": [
        "# Задание 5.\n",
        "\n",
        "Пользователь вводит номер буквы в алфавите. Определить, какая это буква."
      ],
      "metadata": {
        "id": "L4MVYP9aTOZN"
      }
    },
    {
      "cell_type": "code",
      "source": [
        "print('Введите номер буквы в алфавите от 1 до 26:')\n",
        "num = int(input())\n",
        "char = chr(num + 64).lower()\n",
        "print(f'Это буква \"{char}\"')"
      ],
      "metadata": {
        "colab": {
          "base_uri": "https://localhost:8080/"
        },
        "id": "2j0yG7H-TaE9",
        "outputId": "9a95e03d-ae80-400c-b9fc-0ed55927536d"
      },
      "execution_count": 5,
      "outputs": [
        {
          "output_type": "stream",
          "name": "stdout",
          "text": [
            "Введите номер буквы в алфавите от 1 до 26:\n",
            "26\n",
            "Это буква \"z\"\n"
          ]
        }
      ]
    },
    {
      "cell_type": "markdown",
      "source": [
        "# Задание 6.\n",
        "\n",
        "По длинам трех отрезков, введенных пользователем, определить возможность существования треугольника, составленного из этих отрезков. Если такой треугольник существует, то определить, является ли он разносторонним, равнобедренным или равносторонним."
      ],
      "metadata": {
        "id": "NMebtgmiYsHv"
      }
    },
    {
      "cell_type": "code",
      "source": [
        "a = int(input('Введите длину стороны 1 = '))\n",
        "b = int(input('Введите длину стороны 2 = '))\n",
        "c = int(input('Введите длину стороны 3 = '))\n",
        "\n",
        "if a + b > c  and a + c > b and b + c > a:\n",
        "    if a == b == c:\n",
        "        print('Треугольник существует и он равносторонний')\n",
        "    elif a == b or a == c or b == c:\n",
        "        print('Треугольник существует и он равнобедренный')\n",
        "    else:\n",
        "        print('Треугольник существует и он разносторонний')\n",
        "else:\n",
        "    print('Треугольник не существует')"
      ],
      "metadata": {
        "colab": {
          "base_uri": "https://localhost:8080/"
        },
        "id": "5bXDdwKVbvKd",
        "outputId": "79b28aa0-8179-4467-d1fd-fd20db2adee0"
      },
      "execution_count": 6,
      "outputs": [
        {
          "output_type": "stream",
          "name": "stdout",
          "text": [
            "Введите длину стороны 1 = 45\n",
            "Введите длину стороны 2 = 56\n",
            "Введите длину стороны 3 = 78\n",
            "Треугольник существует и он разносторонний\n"
          ]
        }
      ]
    },
    {
      "cell_type": "markdown",
      "source": [
        "# Задание 7.\n",
        "\n",
        "Определить, является ли год, который ввел пользователь, високосным или не високосным."
      ],
      "metadata": {
        "id": "Cw-6252BcGmk"
      }
    },
    {
      "cell_type": "code",
      "source": [
        "year = int(input('Введите год: '))\n",
        "\n",
        "if year % 4 == 0 or year % 100 == 0:\n",
        "    print('Год является високосным')\n",
        "else:\n",
        "    print('Год не високосный')"
      ],
      "metadata": {
        "colab": {
          "base_uri": "https://localhost:8080/"
        },
        "id": "ypJFTW-Wcuj2",
        "outputId": "f22f9c91-8e90-4afb-998b-172385c7996f"
      },
      "execution_count": 10,
      "outputs": [
        {
          "output_type": "stream",
          "name": "stdout",
          "text": [
            "Введите год: 2022\n",
            "Год не високосный\n"
          ]
        }
      ]
    },
    {
      "cell_type": "markdown",
      "source": [
        "# Задание 8.\n",
        "\n",
        "Вводятся три разных числа. Найти, какое из них является средним (больше одного, но меньше другого)."
      ],
      "metadata": {
        "id": "5dbP9uK8cLHf"
      }
    },
    {
      "cell_type": "code",
      "source": [
        "a, b, c = map(int, input('Введите 3 натуральных числа через пробел: ').split())\n",
        "\n",
        "m = None\n",
        "\n",
        "if a >= b >= c or a <= b <= c:\n",
        "    m = b\n",
        "elif b >= a >= c or c >= a >= b:\n",
        "    m = a\n",
        "else:\n",
        "    m = c\n",
        "\n",
        "print(f'Среднее число: {m}')"
      ],
      "metadata": {
        "id": "8iDK0fLQhyr2",
        "outputId": "218beb69-1545-4710-fbe6-d5609421cfd9",
        "colab": {
          "base_uri": "https://localhost:8080/"
        }
      },
      "execution_count": 11,
      "outputs": [
        {
          "output_type": "stream",
          "name": "stdout",
          "text": [
            "Введите 3 натуральных числа через пробел: 1 2 3\n",
            "Среднее число: 2\n"
          ]
        }
      ]
    }
  ]
}