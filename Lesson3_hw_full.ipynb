{
  "nbformat": 4,
  "nbformat_minor": 0,
  "metadata": {
    "colab": {
      "name": "Lesson3_hw_full.ipynb",
      "provenance": [],
      "collapsed_sections": [],
      "authorship_tag": "ABX9TyPqRocT2MAOJ9lucahPsHA9",
      "include_colab_link": true
    },
    "kernelspec": {
      "name": "python3",
      "display_name": "Python 3"
    },
    "language_info": {
      "name": "python"
    }
  },
  "cells": [
    {
      "cell_type": "markdown",
      "metadata": {
        "id": "view-in-github",
        "colab_type": "text"
      },
      "source": [
        "<a href=\"https://colab.research.google.com/github/nedokormysh/GB_Algorithms_-_Data_Structures/blob/lesson3/Lesson3_hw_full.ipynb\" target=\"_parent\"><img src=\"https://colab.research.google.com/assets/colab-badge.svg\" alt=\"Open In Colab\"/></a>"
      ]
    },
    {
      "cell_type": "code",
      "source": [
        "import random"
      ],
      "metadata": {
        "id": "fjBqQovMW-i_"
      },
      "execution_count": 2,
      "outputs": []
    },
    {
      "cell_type": "markdown",
      "source": [
        "# Задание 1.\n",
        "\n",
        "В диапазоне натуральных чисел от 2 до 99 определить, сколько из них кратны каждому из чисел в диапазоне от 2 до 9. Примечание: 8 разных ответов."
      ],
      "metadata": {
        "id": "feQhM-g5OP4r"
      }
    },
    {
      "cell_type": "code",
      "execution_count": null,
      "metadata": {
        "colab": {
          "base_uri": "https://localhost:8080/"
        },
        "id": "YcuUpDRFNk-1",
        "outputId": "f1fcbd12-006b-4fbe-f00c-4489bbf1d234"
      },
      "outputs": [
        {
          "output_type": "stream",
          "name": "stdout",
          "text": [
            "Количество чисел делящихся на 2 = 49\n",
            "Количество чисел делящихся на 3 = 33\n",
            "Количество чисел делящихся на 4 = 24\n",
            "Количество чисел делящихся на 5 = 19\n",
            "Количество чисел делящихся на 6 = 16\n",
            "Количество чисел делящихся на 7 = 14\n",
            "Количество чисел делящихся на 8 = 12\n",
            "Количество чисел делящихся на 9 = 11\n"
          ]
        }
      ],
      "source": [
        "for i in range(2, 10):\n",
        "    count = 0\n",
        "    for j in range(2, 100):\n",
        "        if j % i == 0:\n",
        "            count += 1\n",
        "    print(f'Количество чисел делящихся на {i} = {count}')"
      ]
    },
    {
      "cell_type": "markdown",
      "source": [
        "# Задание 2.\n",
        "Во втором массиве сохранить индексы четных элементов первого массива.\n",
        "Например, если дан массив со значениями 8, 3, 15, 6, 4, 2, второй массив надо заполнить значениями 0, 3, 4, 5 (помните, что индексация начинается с нуля), т. к. именно в этих позициях первого массива стоят четные числа."
      ],
      "metadata": {
        "id": "s1fROoiSOq8q"
      }
    },
    {
      "cell_type": "code",
      "source": [
        "first_lst = [random.randint(0, 10) for _ in range(10)]\n",
        "print(f'Исходный массив: {first_lst}')\n",
        "\n",
        "second_lst = [i for i, item in enumerate(first_lst) if item % 2 == 0]\n",
        "print(f'Массив с индексами чётных элементов исходного массива: {second_lst}')"
      ],
      "metadata": {
        "colab": {
          "base_uri": "https://localhost:8080/"
        },
        "id": "XWWlS-GFOo0E",
        "outputId": "88ed088d-ad6f-4275-9727-73e34d36eced"
      },
      "execution_count": null,
      "outputs": [
        {
          "output_type": "stream",
          "name": "stdout",
          "text": [
            "Исходный массив: [1, 0, 9, 1, 7, 7, 6, 5, 10, 2]\n",
            "Массив с индексами чётных элементов исходного массива: [1, 6, 8, 9]\n"
          ]
        }
      ]
    },
    {
      "cell_type": "markdown",
      "source": [
        "# Задание 3.\n",
        "\n",
        "В массиве случайных целых чисел поменять местами минимальный и максимальный элементы."
      ],
      "metadata": {
        "id": "gw9Etj29XGoY"
      }
    },
    {
      "cell_type": "code",
      "source": [
        "n = 10\n",
        "rndmlst = [random.randint(-100, 100) for _ in range(0, n)]\n",
        "\n",
        "print(f'Исходный массив: {rndmlst}')\n",
        "\n",
        "max_i = 0\n",
        "min_i = 0\n",
        "\n",
        "for i in range(len(rndmlst)):\n",
        "    if rndmlst[i] > rndmlst[max_i]:\n",
        "        max_i = i\n",
        "    elif rndmlst[i] < rndmlst[min_i]:\n",
        "        min_i = i\n",
        "\n",
        "print(f'Минимальное число массива: {rndmlst[min_i]} находится под индексом {min_i} в исходном массиве.')\n",
        "print(f'Максимальное число массива: {rndmlst[max_i]} находится под индексом {max_i} в исходном массиве.')\n",
        "\n",
        "rndmlst[min_i], rndmlst[max_i] = rndmlst[max_i], rndmlst[min_i]\n",
        "\n",
        "print(f'Изменённый массив: {rndmlst}')"
      ],
      "metadata": {
        "colab": {
          "base_uri": "https://localhost:8080/"
        },
        "id": "V-NAR5UmXSr9",
        "outputId": "eed73dc3-f1b9-4c4d-d4ad-9f5e534666cb"
      },
      "execution_count": null,
      "outputs": [
        {
          "output_type": "stream",
          "name": "stdout",
          "text": [
            "Исходный массив: [-53, -45, -33, -88, -61, 86, 56, 89, 97, -82]\n",
            "Минимальное число массива: -88 находится под индексом 3 в исходном массиве.\n",
            "Максимальное число массива: 97 находится под индексом 8 в исходном массиве.\n",
            "Изменённый массив: [-53, -45, -33, 97, -61, 86, 56, 89, -88, -82]\n"
          ]
        }
      ]
    },
    {
      "cell_type": "markdown",
      "source": [
        "# Задание 4.\n",
        "\n",
        "Определить, какое число в массиве встречается чаще всего."
      ],
      "metadata": {
        "id": "9iIbOlbZ4Y-v"
      }
    },
    {
      "cell_type": "code",
      "source": [
        "n = 15\n",
        "x = 6\n",
        "\n",
        "rndmlst = [random.randint(0, x) for _ in range(n)]\n",
        "\n",
        "print(f'Исходный массив случайных чисел: {rndmlst}')\n",
        "\n",
        "d = dict.fromkeys(rndmlst, 0)\n",
        "\n",
        "for i in rndmlst:\n",
        "    d[i] += 1\n",
        "\n",
        "max_val = 1\n",
        "\n",
        "for key in d.keys():\n",
        "    if  d[key] > max_val:\n",
        "        max_val = d[key]\n",
        "        key_f = key\n",
        "\n",
        "other = []\n",
        "\n",
        "for key in d.keys():\n",
        "    if d[key] == max_val:\n",
        "        other.append(key)\n",
        "\n",
        "other.remove(key_f)\n",
        "\n",
        "if len(other) == 0:\n",
        "    print(f'Чаще всего в массиве встречается число: {key_f}. Оно встретилось {d[key_f]} раз')\n",
        "else:\n",
        "    print(f'Чаще всего в массиве встречается число: {key_f}, столько же ({d[key_f]}) раз в исходном массиве встречались числа из массива: {other}')"
      ],
      "metadata": {
        "colab": {
          "base_uri": "https://localhost:8080/"
        },
        "id": "mgM4nfM84fxX",
        "outputId": "212e917c-09f4-4ed1-b448-0b131e9b759d"
      },
      "execution_count": null,
      "outputs": [
        {
          "output_type": "stream",
          "name": "stdout",
          "text": [
            "Исходный массив случайных чисел: [5, 0, 6, 0, 6, 0, 3, 2, 5, 2, 1, 4, 1, 0, 3]\n",
            "Чаще всего в массиве встречается число: 0. Оно встретилось 4 раз\n"
          ]
        }
      ]
    },
    {
      "cell_type": "markdown",
      "source": [
        "# Задание 5.\n",
        "\n",
        "В массиве найти максимальный отрицательный элемент. Вывести на экран его значение и позицию в массиве."
      ],
      "metadata": {
        "id": "yDeP8O5OARdX"
      }
    },
    {
      "cell_type": "code",
      "source": [
        "n = 10\n",
        "\n",
        "rndmlst = [random.randint(-100, 100) for _ in range(n)]\n",
        "\n",
        "max_min = -float('inf')\n",
        "\n",
        "for el in range(len(rndmlst)):\n",
        "    if max_min < rndmlst[el] < 0:\n",
        "        max_min = rndmlst[el]\n",
        "        pos = el\n",
        "\n",
        "print(f'Исходный массив: {rndmlst}')\n",
        "print('Отрицательных чисел в массиве не было' if max_min == -float('inf') else f'Максимальный отрицательный элемент: {max_min}. Его позиция {pos}')"
      ],
      "metadata": {
        "colab": {
          "base_uri": "https://localhost:8080/"
        },
        "id": "XHdmMje6BKtH",
        "outputId": "7c1b6a3b-8b04-4555-e747-b752c5bc72ab"
      },
      "execution_count": null,
      "outputs": [
        {
          "output_type": "stream",
          "name": "stdout",
          "text": [
            "Исходный массив: [-94, -63, -84, -41, 44, -51, -18, 17, -85, -75]\n",
            "Максимальный отрицательный элемент: -18. Его позиция 6\n"
          ]
        }
      ]
    },
    {
      "cell_type": "markdown",
      "source": [
        "# Задание 6.\n",
        "\n",
        "В одномерном массиве найти сумму элементов, находящихся между минимальным и максимальным элементами. Сами минимальный и максимальный элементы в сумму не включать."
      ],
      "metadata": {
        "id": "Pt3wQ_u_dQAz"
      }
    },
    {
      "cell_type": "code",
      "source": [
        "n = 5\n",
        "\n",
        "rndmlst = [random.randint(0, 100) for _ in range(n)]\n",
        "print(f'Исходный массив: {rndmlst}')\n",
        "\n",
        "max_i = 0\n",
        "min_i = 0\n",
        "\n",
        "for i in range(len(rndmlst)):\n",
        "    if rndmlst[i] > rndmlst[max_i]:\n",
        "        max_i = i\n",
        "    elif rndmlst[i] < rndmlst[min_i]:\n",
        "        min_i = i\n",
        "\n",
        "print(f'Максимальный элемент {rndmlst[max_i]} стоит на месте с индексом {max_i}')\n",
        "print(f'Минимальный элемент {rndmlst[min_i]} стоит на месте с индексом {min_i}')\n",
        "\n",
        "summ = 0\n",
        "\n",
        "if min_i > max_i:\n",
        "    min_i, max_i = max_i, min_i\n",
        "\n",
        "for j in range(min_i + 1, max_i):\n",
        "        summ += rndmlst[j]\n",
        "\n",
        "print(f'Сумма элементов между минимальным и максимальным равна: {summ}')"
      ],
      "metadata": {
        "colab": {
          "base_uri": "https://localhost:8080/"
        },
        "id": "mP-yDZF0dXEl",
        "outputId": "9d2dc313-2299-4aa0-d951-655b0a581f2e"
      },
      "execution_count": null,
      "outputs": [
        {
          "output_type": "stream",
          "name": "stdout",
          "text": [
            "Исходный массив: [2, 60, 42, 1, 77]\n",
            "Максимальный элемент 77 стоит на месте с индексом 4\n",
            "Минимальный элемент 1 стоит на месте с индексом 3\n",
            "Сумма элементов между минимальным и максимальным равна: 0\n"
          ]
        }
      ]
    },
    {
      "cell_type": "markdown",
      "source": [
        "# Задание 7.\n",
        "\n",
        "В одномерном массиве целых чисел определить два наименьших элемента. Они могут быть как равны между собой (оба минимальны), так и различаться."
      ],
      "metadata": {
        "id": "TAtqeUCAsc_3"
      }
    },
    {
      "cell_type": "code",
      "source": [
        "rndmlst = [random.randint(0, 100) for _ in range(10)]\n",
        "print(f'Исходный массив {rndmlst}')\n",
        "\n",
        "min1 = 1\n",
        "min2 = 0\n",
        "\n",
        "for i in range(len(rndmlst)):\n",
        "    if rndmlst[i] <= rndmlst[min1]:\n",
        "        min2 = min1\n",
        "        min1 = i\n",
        "\n",
        "    elif rndmlst[i] <= rndmlst[min2]:\n",
        "        min2 = i\n",
        "\n",
        "min1_el = rndmlst[min1]\n",
        "min2_el = rndmlst[min2]\n",
        "\n",
        "print(f'2 наименьших числа:  {min2_el} и {min1_el} соответсвенно на местах {min2} и {min1}')"
      ],
      "metadata": {
        "colab": {
          "base_uri": "https://localhost:8080/"
        },
        "id": "XfHx0XeAYKvx",
        "outputId": "9ba63cca-949e-44e0-a088-b0ee89b47b04"
      },
      "execution_count": 4,
      "outputs": [
        {
          "output_type": "stream",
          "name": "stdout",
          "text": [
            "Исходный массив [45, 52, 82, 63, 60, 27, 71, 31, 74, 31]\n",
            "2 наименьших числа:  31 и 27 соответсвенно на местах 9 и 5\n"
          ]
        }
      ]
    },
    {
      "cell_type": "markdown",
      "source": [
        "# Задание 8.\n",
        "\n",
        "Матрица 5x4 заполняется вводом с клавиатуры, кроме последних элементов строк. Программа должна вычислять сумму введенных элементов каждой строки и записывать ее в последнюю ячейку строки. В конце следует вывести полученную матрицу."
      ],
      "metadata": {
        "id": "Ut9B8koWYUNV"
      }
    },
    {
      "cell_type": "code",
      "source": [
        "h = 5\n",
        "\n",
        "mtrx = []\n",
        "m = 0\n",
        "\n",
        "while m < h:\n",
        "    line = [0] * 4\n",
        "    sum_line = 0\n",
        "    line[0], line[1], line[2] = map(int, input(f'Введите 3 натуральных цифры через пробел для строки {m}: ').split())\n",
        "    for el in line:\n",
        "        sum_line += el\n",
        "    line[3] = sum_line   \n",
        "    mtrx.append(line)\n",
        "    m += 1\n",
        "\n",
        "for line in mtrx:\n",
        "    for item in line:\n",
        "        print(f'{item:>4}', end='')\n",
        "    print()"
      ],
      "metadata": {
        "colab": {
          "base_uri": "https://localhost:8080/"
        },
        "id": "9UYAKti9hF4l",
        "outputId": "80db85db-1b8b-4b19-851d-5a95741be9c5"
      },
      "execution_count": null,
      "outputs": [
        {
          "output_type": "stream",
          "name": "stdout",
          "text": [
            "Введите 3 натуральных цифры через пробел для строки 0: 1 1 1\n",
            "Введите 3 натуральных цифры через пробел для строки 1: 2  2 2\n",
            "Введите 3 натуральных цифры через пробел для строки 2: 3 3 3\n",
            "Введите 3 натуральных цифры через пробел для строки 3: 4 4 4\n",
            "Введите 3 натуральных цифры через пробел для строки 4: 5 5 5\n",
            "   1   1   1   3\n",
            "   2   2   2   6\n",
            "   3   3   3   9\n",
            "   4   4   4  12\n",
            "   5   5   5  15\n"
          ]
        }
      ]
    },
    {
      "cell_type": "markdown",
      "source": [
        "# Задание 9. \n",
        "\n",
        "Найти максимальный элемент среди минимальных элементов столбцов матрицы."
      ],
      "metadata": {
        "id": "03E88PRPBxqY"
      }
    },
    {
      "cell_type": "code",
      "source": [
        "import random\n",
        "\n",
        "matrix = [[random.randint(1, 10) for _ in range(5)] for _ in range(7)]\n",
        "\n",
        "for line in matrix:\n",
        "    for item in line:\n",
        "        print(f'{item:>4}', end='')\n",
        "    print()\n",
        "\n",
        "min_l = []\n",
        "\n",
        "for j in range(len(matrix[0])):\n",
        "    min_el = float('inf')\n",
        "    for i in range(len(matrix)):\n",
        "        if min_el > matrix[i][j]:\n",
        "            min_el = matrix[i][j]\n",
        "    min_l.append(min_el)\n",
        "\n",
        "max_el_from_min = -float('inf')\n",
        "\n",
        "for el in min_l:\n",
        "    if el > max_el_from_min:\n",
        "        max_el_from_min = el\n",
        "\n",
        "print(f'Минимальные элементы столбцов матрицы {min_l}')\n",
        "print(f'Максимальный элемент среди минимальных элементов столбцов матрицы: {max_el_from_min}')"
      ],
      "metadata": {
        "id": "jXjL9cTgByQf"
      },
      "execution_count": null,
      "outputs": []
    },
    {
      "cell_type": "code",
      "source": [
        "import random\n",
        "\n",
        "m = int(input('Количество строк: '))\n",
        "n = int(input('Количество столбцов: '))\n",
        "\n",
        "matrix = [[random.randint(0, 10) for _ in range(n)] for _ in range(m)]\n",
        "\n",
        "for line in matrix:\n",
        "    for item in line:\n",
        "        print(f'{item:>4}', end='')\n",
        "    print()\n",
        "\n",
        "max_el_from_min = -float('inf')\n",
        "for j in range(len(matrix[0])):\n",
        "    min_el = float('inf')\n",
        "    for i in range(len(matrix)):\n",
        "        if min_el > matrix[i][j]:\n",
        "            min_el = matrix[i][j]\n",
        "    if min_el > max_el_from_min:\n",
        "        max_el_from_min = min_el\n",
        "\n",
        "print(f'Максимальный элемент среди минимальных элементов столбцов матрицы: {max_el_from_min}')"
      ],
      "metadata": {
        "colab": {
          "base_uri": "https://localhost:8080/"
        },
        "id": "dKpKvax4DfVu",
        "outputId": "1e404440-ef3c-4821-df6c-6bbbd99e5c33"
      },
      "execution_count": null,
      "outputs": [
        {
          "output_type": "stream",
          "name": "stdout",
          "text": [
            "Количество строк: 5\n",
            "Количество столбцов: 3\n",
            "  10   4   9\n",
            "   5   5  10\n",
            "   1   3   4\n",
            "   9   4   4\n",
            "   7   0   3\n",
            "Максимальный элемент среди минимальных элементов столбцов матрицы: 3\n"
          ]
        }
      ]
    }
  ]
}