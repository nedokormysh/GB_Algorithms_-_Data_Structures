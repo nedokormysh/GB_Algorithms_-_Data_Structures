{
  "nbformat": 4,
  "nbformat_minor": 0,
  "metadata": {
    "colab": {
      "name": "Lesson2_hw_full.ipynb",
      "provenance": [],
      "collapsed_sections": [],
      "authorship_tag": "ABX9TyNA3fVXMGNx6/oCYZrZe3Z6",
      "include_colab_link": true
    },
    "kernelspec": {
      "name": "python3",
      "display_name": "Python 3"
    },
    "language_info": {
      "name": "python"
    }
  },
  "cells": [
    {
      "cell_type": "markdown",
      "metadata": {
        "id": "view-in-github",
        "colab_type": "text"
      },
      "source": [
        "<a href=\"https://colab.research.google.com/github/nedokormysh/GB_Algorithms_-_Data_Structures/blob/lesson2/Lesson2_hw_full.ipynb\" target=\"_parent\"><img src=\"https://colab.research.google.com/assets/colab-badge.svg\" alt=\"Open In Colab\"/></a>"
      ]
    },
    {
      "cell_type": "markdown",
      "source": [
        "# Задание 1.\n",
        "\n",
        "Написать программу, которая будет складывать, вычитать, умножать или делить два числа. Числа и знак операции вводятся пользователем. После выполнения вычисления программа не завершается, а запрашивает новые данные для вычислений. Завершение программы должно выполняться при вводе символа '0' в качестве знака операции. Если пользователь вводит неверный знак (не '0', '+', '-', '', '/'), программа должна сообщать об ошибке и снова запрашивать знак операции. Также она должна сообщать пользователю о невозможности деления на ноль, если он ввел его в качестве делителя."
      ],
      "metadata": {
        "id": "5FtmkCOtPZA5"
      }
    },
    {
      "cell_type": "code",
      "execution_count": null,
      "metadata": {
        "id": "u3Zny-OPPOCF"
      },
      "outputs": [],
      "source": [
        "def simple_calc(x, y, s):\n",
        "    if s == '+':\n",
        "        res = f'{x} + {y} = {x + y}'\n",
        "    elif s == '-':\n",
        "        res = f'{x} - {y} = {x - y}'\n",
        "    elif s == '*':\n",
        "        res = f'{x} * {y} = {x * y}'\n",
        "    else:\n",
        "        if y == 0:\n",
        "            res = 'Деление на ноль невозможно'\n",
        "        else:\n",
        "            res = f'{x} / {y} = {x / y}'\n",
        "    return res\n",
        "\n",
        "while True:\n",
        "    s = input('Введите знак операции. Для выхода из программы введите \"0\": ')\n",
        "    if s not in ('0', '+', '-', '*', '/'):\n",
        "        print('Вы ввели недопустимый знак, введите один из символов: \"+\", \"-\", \"/\" или \"0\"')\n",
        "    else:\n",
        "        if s != '0':\n",
        "            x = float(input('Введите первое число: '))\n",
        "            y = float(input('Введите второе число: '))\n",
        "            print(simple_calc(x, y, s))\n",
        "        else:\n",
        "            print('Вы завершили работу с программой')\n",
        "            break"
      ]
    },
    {
      "cell_type": "markdown",
      "source": [
        "# Задание 2.\n",
        "\n",
        "Посчитать четные и нечетные цифры введенного натурального числа. Например, если введено число 34560, в нем 3 четные цифры (4, 6 и 0) и 2 нечетные (3 и 5)."
      ],
      "metadata": {
        "id": "QkcY6wacPfY3"
      }
    },
    {
      "cell_type": "code",
      "source": [
        "num = input('Введите натуральное число: ')\n",
        "\n",
        "n_odd, n_even = 0, 0\n",
        "\n",
        "for i in range (len(num)):\n",
        "    if int(num[i]) % 2 == 0:\n",
        "        n_even += 1\n",
        "n_odd = len(num) - n_even\n",
        "\n",
        "print(f'Количество цифр в числе: {len(num)}. Из них чётных чисел = {n_even}, нечётных чисел = {n_odd}')"
      ],
      "metadata": {
        "id": "wmNb0GWUPh_Y"
      },
      "execution_count": null,
      "outputs": []
    },
    {
      "cell_type": "markdown",
      "source": [
        "# Задание 3.\n",
        "\n",
        "Сформировать из введенного числа обратное по порядку входящих в него цифр и вывести на экран. Например, если введено число 3486, надо вывести 6843."
      ],
      "metadata": {
        "id": "s11HO0POPm8A"
      }
    },
    {
      "cell_type": "code",
      "source": [
        "num = input('Введите натуральное число: ')\n",
        "\n",
        "num_temp = int(num)\n",
        "num_reverse = 0\n",
        "\n",
        "while num_temp > 0:\n",
        "    num_reverse = num_reverse * 10 + num_temp % 10\n",
        "    num_temp //= 10\n",
        "\n",
        "print(f'Было введено число: {int(num)}. Обратное по порядку чисел: {num_reverse}')"
      ],
      "metadata": {
        "id": "RZsAEke0Ppdx"
      },
      "execution_count": null,
      "outputs": []
    },
    {
      "cell_type": "markdown",
      "source": [
        "# Задание 4.\n",
        "\n",
        "Найти сумму n элементов следующего ряда чисел: 1, -0.5, 0.25, -0.125,… Количество элементов (n) вводится с клавиатуры."
      ],
      "metadata": {
        "id": "ers8RWBvPstp"
      }
    },
    {
      "cell_type": "code",
      "source": [
        "n = int(input('Введите количество элементов для подсчёта суммы: '))\n",
        "\n",
        "el = 1\n",
        "sum = 0\n",
        "\n",
        "while n > 0:\n",
        "    sum += el\n",
        "    el *= - 0.5\n",
        "    n -= 1\n",
        "    \n",
        "print(f'Сумма ряда = {sum}')"
      ],
      "metadata": {
        "id": "xjoS9XpTPsdx"
      },
      "execution_count": null,
      "outputs": []
    },
    {
      "cell_type": "markdown",
      "source": [
        "# Задание 5.\n",
        "\n",
        "Вывести на экран коды и символы таблицы ASCII, начиная с символа под номером 32 и заканчивая 127-м включительно. Вывод выполнить в табличной форме: по десять пар «код-символ» в каждой строке."
      ],
      "metadata": {
        "id": "KPzKGWliP0Sf"
      }
    },
    {
      "cell_type": "code",
      "source": [
        "for i in range(32, 128):\n",
        "    print(f'{i}: \\033[1m{chr(i)}\\033[0m', end='\\t')\n",
        "    if i % 10 == 1:\n",
        "        print('')"
      ],
      "metadata": {
        "id": "t24qpl2FP2k4"
      },
      "execution_count": null,
      "outputs": []
    },
    {
      "cell_type": "markdown",
      "source": [
        "# Задание 6.\n",
        "\n",
        "В программе генерируется случайное целое число от 0 до 100. Пользователь должен его отгадать не более чем за 10 попыток. После каждой неудачной попытки должно сообщаться, больше или меньше введенное пользователем число, чем то, что загадано. Если за 10 попыток число не отгадано, вывести ответ."
      ],
      "metadata": {
        "id": "OFit1lZcP4Pf"
      }
    },
    {
      "cell_type": "code",
      "source": [
        "import random\n",
        "\n",
        "n = random.randint(0, 100)\n",
        "i = 0\n",
        "max = 10\n",
        "\n",
        "while i < max:\n",
        "    answer = int(input('Введите свою догадку: '))\n",
        "    if answer == n:\n",
        "        print(f'Это была попытка номер: {i + 1}. Вы угадали')\n",
        "        break\n",
        "    elif answer < n:\n",
        "        print(f'Ваше число меньше сгенерированного числа. Это была попытка номер: {i + 1}. Осталось: {10 - i - 1}')\n",
        "    else:\n",
        "        print(f'Ваше число больше сгенерированного числа. Это была попытка номер: {i + 1}. Осталось: {10 - i - 1}')\n",
        "    i += 1\n",
        "\n",
        "print(f'Попытки закончились. Было загадано число {n}')"
      ],
      "metadata": {
        "id": "fyFpdw5dP_OP"
      },
      "execution_count": null,
      "outputs": []
    },
    {
      "cell_type": "markdown",
      "source": [
        "# Задание 7.\n",
        "\n",
        "Написать программу, доказывающую или проверяющую, что для множества натуральных чисел выполняется равенство: 1+2+...+n = n(n+1)/2, где n — любое натуральное число."
      ],
      "metadata": {
        "id": "tVnkMZD5QGDX"
      }
    },
    {
      "cell_type": "code",
      "source": [
        "n = int(input('Введите натуральное число: '))\n",
        "\n",
        "i = 1\n",
        "sum_x = 0\n",
        "\n",
        "while i <= n:\n",
        "    sum_x += i\n",
        "    i += 1\n",
        "\n",
        "sum_y = int(n * (n + 1) / 2)\n",
        "\n",
        "print(f'Для числа {n} сумма элементов равна = {sum_x}. Сумма, подсчитанная по формуле = {sum_y}. Равны ли эти суммы - {sum_x == sum_y}')"
      ],
      "metadata": {
        "id": "V9AYd6m0QRUZ"
      },
      "execution_count": null,
      "outputs": []
    },
    {
      "cell_type": "markdown",
      "source": [
        "# Задание 8.\n",
        "\n",
        "Посчитать, сколько раз встречается определенная цифра в введенной последовательности чисел. Количество вводимых чисел и цифра, которую необходимо посчитать, задаются вводом с клавиатуры.\n",
        "\n"
      ],
      "metadata": {
        "id": "0enBnHeGja6G"
      }
    },
    {
      "cell_type": "code",
      "source": [
        "n = int(input('Enter amount of numbers: '))\n",
        "n_f = int(input('Enter number to find: '))\n",
        "\n",
        "counts = 0\n",
        "# без массивов\n",
        "for i in range(1, n + 1):\n",
        "    x = int(input(f'Enter number {i}: '))\n",
        "    while x > 0:\n",
        "        i = x % 10\n",
        "        if i == n_f:\n",
        "            counts +=1\n",
        "        x //= 10\n",
        "\n",
        "print(f'Цифра {n_f} встретилась {counts} раз в {n} числах')"
      ],
      "metadata": {
        "colab": {
          "base_uri": "https://localhost:8080/"
        },
        "id": "nL3y-gntjant",
        "outputId": "17c440d6-e67e-49c7-cade-f5b0f50eda83"
      },
      "execution_count": null,
      "outputs": [
        {
          "output_type": "stream",
          "name": "stdout",
          "text": [
            "Enter amount of numbers: 2\n",
            "Enter number to find: 5\n",
            "Enter number 1: 153\n",
            "Enter number 2: 152\n",
            "Цифра 5 встретилась 2 раз в 2 числах\n"
          ]
        }
      ]
    },
    {
      "cell_type": "code",
      "source": [
        "n = int(input('Enter amount of numbers: '))\n",
        "n_f = int(input('Enter number to find: '))\n",
        "\n",
        "counts = 0\n",
        "# с массивом \n",
        "for i in range(1, n + 1):\n",
        "    i = input(f'Enter number {i}: ')\n",
        "    for j in range(len(i)):\n",
        "        if int(i[j]) == n_f:\n",
        "            counts += 1\n",
        "\n",
        "print(f'Цифра {n_f} встретилась {counts} раз в {n} числах')"
      ],
      "metadata": {
        "colab": {
          "base_uri": "https://localhost:8080/"
        },
        "id": "zLKUsHOyjpF0",
        "outputId": "474fbf88-7c73-4981-dad0-53a9ba9322bb"
      },
      "execution_count": null,
      "outputs": [
        {
          "output_type": "stream",
          "name": "stdout",
          "text": [
            "Enter amount of numbers: 2\n",
            "Enter number to find: 3\n",
            "Enter number 1: 153\n",
            "Enter number 2: 152\n",
            "Цифра 3 встретилась 1 раз в 2 числах\n"
          ]
        }
      ]
    },
    {
      "cell_type": "markdown",
      "source": [
        "# Задание 9.\n",
        "\n",
        "Среди натуральных чисел, которые были введены, найти наибольшее по сумме цифр. Вывести на экран это число и сумму его цифр."
      ],
      "metadata": {
        "id": "IVEspdr_QTvP"
      }
    },
    {
      "cell_type": "code",
      "source": [
        "i = 1\n",
        "sum_max = 0\n",
        "x_max = 0\n",
        "\n",
        "while True:\n",
        "    x = int(input(f'Enter number {i}. To exit enter 0: '))\n",
        "    if x == 0:\n",
        "        print(f'Exit. Maximum number by summ of digits is: {x_max}. Sum of digits: {sum_max}')\n",
        "        break\n",
        "    else:\n",
        "        x_temp = x\n",
        "        sum_j = 0\n",
        "\n",
        "        while x_temp > 0:\n",
        "            j = x_temp % 10\n",
        "            sum_j += j\n",
        "            x_temp //= 10\n",
        "        if sum_max < sum_j:\n",
        "            sum_max = sum_j\n",
        "            x_max = x\n",
        "    i += 1"
      ],
      "metadata": {
        "colab": {
          "base_uri": "https://localhost:8080/"
        },
        "id": "5exSklf1xgv9",
        "outputId": "b336805b-2166-40e1-ef93-e7a19450f313"
      },
      "execution_count": null,
      "outputs": [
        {
          "output_type": "stream",
          "name": "stdout",
          "text": [
            "Enter number 1. To exit enter 0: 456\n",
            "Enter number 2. To exit enter 0: 789\n",
            "Enter number 3. To exit enter 0: 0\n",
            "Exit. Maximum number by summ of digits is: 789. Sum of digits: 24\n"
          ]
        }
      ]
    }
  ]
}