{
  "nbformat": 4,
  "nbformat_minor": 0,
  "metadata": {
    "colab": {
      "name": "Questions.ipynb",
      "provenance": [],
      "collapsed_sections": [
        "ktWpkza45GvO",
        "xpRt4h67y1xN",
        "6kSE7tdKqOSb",
        "EGITaxXKqjKs",
        "n0Ru-Y6PxESE",
        "7hFOXL-t5l7D",
        "TU7_Q3Y6IBN1",
        "O2VbMDONIhZT",
        "odpD1WN9KEal",
        "Z3wiXyd-LJ4U",
        "1T8Y5-e9L7hT",
        "LCXRVYOCOju8",
        "C5Vf5P0-6DfJ",
        "Uk9K5KZ8UagA",
        "tJgZDLVJVUNN",
        "D2-62vUocwqx",
        "KWz7ofYNea-9",
        "bJIXiSGGe2fh",
        "PrYNs6slYeiZ",
        "lvLIyGOefR98",
        "29Ksg0ipgIaa",
        "jjixd1v_7nh_",
        "sqJojEyW9NRS",
        "DuoA8ohNBXRs",
        "XqBMaaMEEldj",
        "18XEIhIC_ACM",
        "RRS-wjqPrWHj",
        "ZNtUX_5Trkrf",
        "saNKePkVr2lK",
        "ye2Tf6PTGdsH",
        "tROFwX5GIEQq",
        "sxBsLyXbK3lS",
        "vh3frj_RHnPT",
        "tQdQudwDMcIp",
        "q_TkMVmssHFe",
        "o8cIRCdTv6A6",
        "odba90MyvQwv",
        "U0QhHXkb19IJ",
        "2KRBmEZR3U1Y"
      ],
      "authorship_tag": "ABX9TyPfqqFQ0IzruU5oA9rokPBc",
      "include_colab_link": true
    },
    "kernelspec": {
      "name": "python3",
      "display_name": "Python 3"
    },
    "language_info": {
      "name": "python"
    }
  },
  "cells": [
    {
      "cell_type": "markdown",
      "metadata": {
        "id": "view-in-github",
        "colab_type": "text"
      },
      "source": [
        "<a href=\"https://colab.research.google.com/github/nedokormysh/GB_Algorithms_-_Data_Structures/blob/main/Questions.ipynb\" target=\"_parent\"><img src=\"https://colab.research.google.com/assets/colab-badge.svg\" alt=\"Open In Colab\"/></a>"
      ]
    },
    {
      "cell_type": "markdown",
      "source": [
        "# Какой из видов алгоритмов лишний:\n",
        "\n",
        "\n",
        "\n",
        "*   Линейный\n",
        "*   **Функциональный**\n",
        "*   Разветвляющийся\n",
        "*   Циклический\n",
        "\n",
        "\n",
        "\n"
      ],
      "metadata": {
        "id": "hNtyh6iEjVZy"
      }
    },
    {
      "cell_type": "markdown",
      "source": [
        "# Из каких шагов состоит рекурсивный алгоритм?\n",
        "\n",
        "\n",
        "\n",
        "1.   **Базовый случай**\n",
        "\n",
        "2.   Условие возврата\n",
        "3.   **Шаг рекурсии**\n",
        "\n",
        "\n",
        "4.   Базовый шаг\n",
        "\n"
      ],
      "metadata": {
        "id": "hWgF7FBasPiY"
      }
    },
    {
      "cell_type": "markdown",
      "source": [
        "# Укажите базовый случай в данной функции:\n",
        "\n"
      ],
      "metadata": {
        "id": "vupeYHKpvATF"
      }
    },
    {
      "cell_type": "code",
      "source": [
        "def akk(m, n):\n",
        "  if m > n and n == 0:\n",
        "    return akk(m - 1, 1)\n",
        "  if m == 0:\n",
        "    return n + 1\n",
        "  if m > 0 and n > 0:\n",
        "    return akk(m - 1, akk(m, n - 1))   "
      ],
      "metadata": {
        "id": "wBJnuEs_vWXW"
      },
      "execution_count": null,
      "outputs": []
    },
    {
      "cell_type": "code",
      "source": [
        "akk (3, 4)"
      ],
      "metadata": {
        "colab": {
          "base_uri": "https://localhost:8080/"
        },
        "id": "n5MiWgx2wJX6",
        "outputId": "a187445d-aca7-4bb7-d88e-6ebf45e73bc6"
      },
      "execution_count": null,
      "outputs": [
        {
          "output_type": "execute_result",
          "data": {
            "text/plain": [
              "125"
            ]
          },
          "metadata": {},
          "execution_count": 5
        }
      ]
    },
    {
      "cell_type": "markdown",
      "source": [
        "\n",
        "\n",
        "*   if m > n and n == 0:\n",
        "\n",
        "      > return akk(m - 1, 1)\n",
        "\n",
        "\n",
        "\n",
        "*    **if m == 0: **\n",
        "    > return n + 1\n",
        "\n",
        "*   У этой функции нет базового случая\n",
        "*   if m > 0 and n > 0:\n",
        "    > return akk(m - 1, akk(m, n - 1))  \n",
        "\n",
        "\n"
      ],
      "metadata": {
        "id": "kUP5RUUlv-V4"
      }
    },
    {
      "cell_type": "markdown",
      "source": [
        "# Какая структура данных позволит организовать работу с данными как со стеком\n",
        "\n",
        "1. **deque**\n",
        "2. **list**\n",
        "3. set\n",
        "4. stack"
      ],
      "metadata": {
        "id": "bf68b5ri-HaH"
      }
    },
    {
      "cell_type": "markdown",
      "source": [
        "# Какая функция позволяет изменять максимальную глубину стека интерпретатора питон\n",
        "\n",
        "\n",
        "\n",
        "*   setstacklimit()\n",
        "\n",
        "*   setmaxdepth()\n",
        "*   setmaxrecursion()\n",
        "\n",
        "\n",
        "*   **setrecursionlimit()**\n",
        "\n"
      ],
      "metadata": {
        "id": "7FEr2OQxvV2O"
      }
    },
    {
      "cell_type": "markdown",
      "source": [
        "# Алгоритм Эвклида"
      ],
      "metadata": {
        "id": "ZzDJcx01yowg"
      }
    },
    {
      "cell_type": "code",
      "source": [
        "def gcd(m, n):\n",
        "    while m != n:\n",
        "        if m > n:\n",
        "            m -= n\n",
        "        else:\n",
        "            n -= m\n",
        "    return m\n",
        "\n",
        "def gcd2(m, n):\n",
        "    if n == 0:\n",
        "        return m\n",
        "    return gcd2(n, m % n)\n",
        "\n",
        "def gcd3(m, n):\n",
        "    while n != 0:\n",
        "        m, n = n, m % n\n",
        "    return m"
      ],
      "metadata": {
        "id": "oty3-c2lysKq"
      },
      "execution_count": null,
      "outputs": []
    },
    {
      "cell_type": "markdown",
      "source": [
        "# Что вычисляет данный код?"
      ],
      "metadata": {
        "id": "R8olHa9pzLEF"
      }
    },
    {
      "cell_type": "code",
      "source": [
        "def gcd2(m, n):\n",
        "    if n == 0:\n",
        "        return m\n",
        "    return gcd2(n, m % n)"
      ],
      "metadata": {
        "id": "XfO6zJ5azQnc"
      },
      "execution_count": null,
      "outputs": []
    },
    {
      "cell_type": "markdown",
      "source": [
        "\n",
        "\n",
        "*   Наименьшее общее кратное\n",
        "\n",
        "*   Наименьший общий делитель\n",
        "*   **Наибольший общий делитель**\n",
        "\n",
        "\n",
        "*   Наибольшее общее кратное\n",
        "\n"
      ],
      "metadata": {
        "id": "p76xKpAazRUa"
      }
    },
    {
      "cell_type": "markdown",
      "source": [
        "# Как называется представленная ниже последовательность чисел? 2, 3, 5, 8, 13, 21, 34\n",
        "\n",
        "\n",
        "\n",
        "*   Число  Леонардо\n",
        "\n",
        "*   Простые числа\n",
        "*   Палиндромные простые числа\n",
        "\n",
        "\n",
        "*   **Числа Фибоначчи**\n",
        "\n"
      ],
      "metadata": {
        "id": "HxCbYfcczkYR"
      }
    },
    {
      "cell_type": "markdown",
      "source": [
        "# Решето Эратосфена"
      ],
      "metadata": {
        "id": "2V64qvZ10MyF"
      }
    },
    {
      "cell_type": "code",
      "source": [
        "n = int(input('До какого числа будем искать простые '))\n",
        "\n",
        "sieve = [i for i in range(n)]\n",
        "sieve[1] = 0\n",
        "\n",
        "for i in range(2, n):\n",
        "\n",
        "    if sieve[i] != 0:\n",
        "        j = i * 2\n",
        "\n",
        "        while j < n:\n",
        "            sieve[j] = 0\n",
        "            j += i\n",
        "\n",
        "\n",
        "result = [i for i in sieve if i != 0]\n",
        "\n",
        "print(result)"
      ],
      "metadata": {
        "id": "yo6zEC67hmAn"
      },
      "execution_count": null,
      "outputs": []
    },
    {
      "cell_type": "markdown",
      "source": [
        "# Какая команда позводляет определить объём памяти, занимаемый объектом дата\n",
        "\n",
        "\n",
        "\n",
        "*   sys.getmemory(data)\n",
        "\n",
        "*   sys.__size__(data)\n",
        "*   sys.getsize(data)\n",
        "\n",
        "\n",
        "*   **sys.getsizeof(data)**\n",
        "\n"
      ],
      "metadata": {
        "id": "ktWpkza45GvO"
      }
    },
    {
      "cell_type": "markdown",
      "source": [
        "# Что такое мемоизация?\n",
        "\n",
        "\n",
        "\n",
        "*   Алгоритм вычисления оптимального размера выделяемой памяти\n",
        "\n",
        "*   **Сохранение результатов выполнения функций для предовтращения повторных вычислений**\n",
        "*   Сохранение результатов на энергозависмый накопитель\n",
        "\n",
        "\n",
        "*   Способ прямого доступа к памяти\n",
        "\n"
      ],
      "metadata": {
        "id": "xpRt4h67y1xN"
      }
    },
    {
      "cell_type": "markdown",
      "source": [
        "# Алгоритм Рабина-Карпа использует хэширование для \n",
        "\n",
        "\n",
        "*   Сжатия строки\n",
        "*   Сортировки массива\n",
        "*   Сравнения двух строк\n",
        "*   **Поиска подстроки в строке**\n",
        "\n"
      ],
      "metadata": {
        "id": "6kSE7tdKqOSb"
      }
    },
    {
      "cell_type": "markdown",
      "source": [
        "# Что обозначает прямоугольник в блок-схеме:\n",
        "\n",
        "\n",
        "\n",
        "*   Данные\n",
        "\n",
        "*   **Процесс**\n",
        "*   Решение\n",
        "\n",
        "\n",
        "*   Терминатор\n",
        "\n"
      ],
      "metadata": {
        "id": "EGITaxXKqjKs"
      }
    },
    {
      "cell_type": "markdown",
      "source": [
        "# Что напечатает программа, если пользователь введёт -2?"
      ],
      "metadata": {
        "id": "n0Ru-Y6PxESE"
      }
    },
    {
      "cell_type": "code",
      "source": [
        "x = int(input('Enter x'))\n",
        "if x > 0:\n",
        "  y = 2 * x - 10\n",
        "elif x == 0:\n",
        "  y = 0\n",
        "else:\n",
        "  y = 2 * abs(x) - 1\n",
        "\n",
        "print(f'y = {y}')"
      ],
      "metadata": {
        "colab": {
          "base_uri": "https://localhost:8080/"
        },
        "id": "N_zMtLazxLAX",
        "outputId": "55a1340a-89f3-49ab-994e-ccdf54665c38"
      },
      "execution_count": null,
      "outputs": [
        {
          "output_type": "stream",
          "name": "stdout",
          "text": [
            "Enter x-2\n",
            "y = 3\n"
          ]
        }
      ]
    },
    {
      "cell_type": "markdown",
      "source": [
        "\n",
        "\n",
        "\n",
        "*   **3**\n",
        "*   -6\n",
        "*   -14\n",
        "\n",
        "\n",
        "*   0\n",
        "\n",
        "\n",
        "\n"
      ],
      "metadata": {
        "id": "cPjAOcYrxpw4"
      }
    },
    {
      "cell_type": "markdown",
      "source": [
        "Что общего у сортировкм выбором и сортировки вставками\n",
        "\n",
        "\n",
        "\n",
        "1.   Лучшее время сортировки равно O(n)\n",
        "\n",
        "2.   Худшее время сортировки равно O(n^2)\n",
        "3.   Очередной элемент помещается на свою позицию в отсортированной части списка\n",
        "\n",
        "\n",
        "4.   Отсортированная часть элементов накапливается слева (в начале списка)\n",
        "\n"
      ],
      "metadata": {
        "id": "durieFtJqux5"
      }
    },
    {
      "cell_type": "markdown",
      "source": [
        "# Какие показатели сравнивают при оценке временной сложности алгоритма\n",
        "\n",
        "\n",
        "\n",
        "1.   **время**\n",
        "\n",
        "2.   **объем входных данных**\n",
        "3.   объём результирующих данных\n",
        "\n",
        "\n",
        "4.   память\n",
        "\n"
      ],
      "metadata": {
        "id": "7hFOXL-t5l7D"
      }
    },
    {
      "cell_type": "markdown",
      "source": [
        "# Какая временная сложность у алгоритма сортировки Timsort?\n",
        "\n",
        "\n",
        "\n",
        "*   O(n^3/2)\n",
        "*   **O(nlog n)**\n",
        "*   O(n^2)\n",
        "\n",
        "\n",
        "*   O(n)\n",
        "\n"
      ],
      "metadata": {
        "id": "TU7_Q3Y6IBN1"
      }
    },
    {
      "cell_type": "markdown",
      "source": [
        "# Какие строчки кода не относятся к линейным алгоритмам\n",
        "\n",
        "\n",
        "\n",
        "1.   **for a in b:**\n",
        "2.   a = b + c\n",
        "3.   **a = [range(b)]**\n",
        "4.   **if a == b + c**\n",
        "\n"
      ],
      "metadata": {
        "id": "O2VbMDONIhZT"
      }
    },
    {
      "cell_type": "markdown",
      "source": [
        "# Что делает представленный ниже код?\n",
        "\n"
      ],
      "metadata": {
        "id": "odpD1WN9KEal"
      }
    },
    {
      "cell_type": "code",
      "source": [
        "class Myclass:\n",
        "\n",
        "  def __init__(self, data, left=None, right=None):\n",
        "    self.data = data\n",
        "    self.left = left\n",
        "    self.right = right"
      ],
      "metadata": {
        "id": "ZIydLoJXKKFu"
      },
      "execution_count": null,
      "outputs": []
    },
    {
      "cell_type": "markdown",
      "source": [
        "\n",
        "\n",
        "*   Создаёт класс для листьев дерева\n",
        "\n",
        "*   Создаёт класс для ветвей дерева\n",
        "*   Создаёт экземпляр класса для дерева\n",
        "\n",
        "\n",
        "*   **Создаёт класс для узла дерева**\n",
        "\n"
      ],
      "metadata": {
        "id": "rcGgwVEtKkYo"
      }
    },
    {
      "cell_type": "markdown",
      "source": [
        "# К какому виду алгоритмов относится данная программа?"
      ],
      "metadata": {
        "id": "Z3wiXyd-LJ4U"
      }
    },
    {
      "cell_type": "code",
      "source": [
        "num = input('Введите трёхзначное число: ')\n",
        "num = int(num)\n",
        "a = num // 100\n",
        "b = num % 100 // 10\n",
        "c = num % 10\n",
        "summa = a + b + c\n",
        "mult = a * b * c\n",
        "print(f'{summa}')\n",
        "print(f'{a * b * c}')"
      ],
      "metadata": {
        "id": "9We7ayckLQxm"
      },
      "execution_count": null,
      "outputs": []
    },
    {
      "cell_type": "markdown",
      "source": [
        "\n",
        "\n",
        "*   Разветвляющийся\n",
        "\n",
        "*   Циклический\n",
        "*   Рекурсивный\n",
        "\n",
        "\n",
        "*   **Линейный**\n",
        "\n"
      ],
      "metadata": {
        "id": "a1yi5QgWLxqd"
      }
    },
    {
      "cell_type": "markdown",
      "source": [
        "# Для чего используется декоратор @funtools.lru_cache()\n",
        "\n",
        "\n",
        "\n",
        "*   **Для сохранения результатов вызова функции**\n",
        "\n",
        "*   Для кэширования кода функции **\n",
        "*   Для вытеснения давно не используемых аргументов\n",
        "\n",
        "\n",
        "*   Для конвертации функции в байт-код\n",
        "\n"
      ],
      "metadata": {
        "id": "1T8Y5-e9L7hT"
      }
    },
    {
      "cell_type": "markdown",
      "source": [
        "# В каких случаях коллекция deque работает быстрее, чем list?\n",
        "\n",
        "\n",
        "\n",
        "1.   **При удалении элемента из начала коллекции**\n",
        "2.   При добавлении элемента в конец коллекции\n",
        "3.   **При добавлении элемента в начало коллекции**\n",
        "4.   При удалении элемента из конца коллекции\n",
        "\n"
      ],
      "metadata": {
        "id": "LCXRVYOCOju8"
      }
    },
    {
      "cell_type": "markdown",
      "source": [
        "# Какая временная сложность у представленного кода"
      ],
      "metadata": {
        "id": "C5Vf5P0-6DfJ"
      }
    },
    {
      "cell_type": "code",
      "source": [
        "size = 3\n",
        "\n",
        "imin = 0\n",
        "imax = 0\n",
        "\n",
        "array = [1, 2, 5, 6, 8]\n",
        "\n",
        "for i in range(size):\n",
        "  if array[i] < array[imin]:\n",
        "    imin = i\n",
        "  elif array[i] > array[imax]:\n",
        "    imax = i"
      ],
      "metadata": {
        "id": "BIm1NkNm6RDk"
      },
      "execution_count": null,
      "outputs": []
    },
    {
      "cell_type": "markdown",
      "source": [
        "\n",
        "\n",
        "*   O(n)\n",
        "\n",
        "*   O(log n)\n",
        "*   O(n^2)\n",
        "\n",
        "\n",
        "*   **O(n)**\n",
        "\n",
        "\n",
        "\n",
        "\n",
        "\n"
      ],
      "metadata": {
        "id": "yx4D3ax17Upc"
      }
    },
    {
      "cell_type": "markdown",
      "source": [
        "# Что делает представленный код?"
      ],
      "metadata": {
        "id": "Uk9K5KZ8UagA"
      }
    },
    {
      "cell_type": "code",
      "source": [
        "N = 3000\n",
        "with open('server', 'r', encoding='utf-8') as f:\n",
        "  log = deque(f, N)"
      ],
      "metadata": {
        "id": "_pcBPKcQUgES"
      },
      "execution_count": null,
      "outputs": []
    },
    {
      "cell_type": "markdown",
      "source": [
        "\n",
        "\n",
        "*   Открывает доступ к серверу на чтение, как к двсторонней очереди\n",
        "\n",
        "*   **Сохраняет в переменную log последние 3000 строк из файла server**\n",
        "*   Передаёт на сервер последние 3000 строк из очереди log\n",
        "\n",
        "\n",
        "*   Сохраняет в файл server последние 3000 строк из очереди log\n",
        "\n"
      ],
      "metadata": {
        "id": "ZKcKC2q4Uwaj"
      }
    },
    {
      "cell_type": "markdown",
      "source": [
        "# Как изменить цикл, чтобы он считал чётные и нечётные цифры"
      ],
      "metadata": {
        "id": "tJgZDLVJVUNN"
      }
    },
    {
      "cell_type": "code",
      "source": [
        "n = 13\n",
        "\n",
        "a = 0\n",
        "b = 0\n",
        "\n",
        "while n > 0:\n",
        "  if n % 2 == 0:\n",
        "    a += 1\n",
        "  else:\n",
        "    b += 1\n",
        "  n = n // 10\n",
        "a, b"
      ],
      "metadata": {
        "colab": {
          "base_uri": "https://localhost:8080/"
        },
        "id": "U9e18WWmVZzb",
        "outputId": "7c83d35d-5122-4225-c99d-c700f51385e9"
      },
      "execution_count": null,
      "outputs": [
        {
          "output_type": "execute_result",
          "data": {
            "text/plain": [
              "(0, 3)"
            ]
          },
          "metadata": {},
          "execution_count": 23
        }
      ]
    },
    {
      "cell_type": "markdown",
      "source": [
        "\n",
        "\n",
        "*   Ничего менять не надо\n",
        "*   Переменные  a и b  заменить на even and odd\n",
        "\n",
        "*   Вторую строку заменить на if not n % 2:\n",
        "*   **Последнюю строку заменить на n = n // 10**\n",
        "\n",
        "\n",
        "\n"
      ],
      "metadata": {
        "id": "KPF7-zMaVs88"
      }
    },
    {
      "cell_type": "markdown",
      "source": [
        "# Какая функция упрощает сортировку сложных структур?\n",
        "\n",
        "\n",
        "\n",
        "*   from collections import namedtuple\n",
        "\n",
        "*   from functools impost lru_cache\n",
        "*   **from operator impost attgetter**\n",
        "\n",
        "*   from sorted import timsort\n",
        "\n"
      ],
      "metadata": {
        "id": "D2-62vUocwqx"
      }
    },
    {
      "cell_type": "markdown",
      "source": [
        "# Как можно ускорить алгоритм сортировки пузыриком\n",
        "\n",
        "\n",
        "\n",
        "\n",
        "*   **Добавить во внешний цикл проверку на отсутсвие перестановок**\n",
        "*   Добавить во внутренний цикл проверку на отсутсвие перестановок\n",
        "\n",
        "\n",
        "*   Добавить возможнсоть сортировки по убыванию\n",
        "*   Добавить перестановку с шагом (increment)\n",
        "\n"
      ],
      "metadata": {
        "id": "KWz7ofYNea-9"
      }
    },
    {
      "cell_type": "markdown",
      "source": [
        "# Какая временная сложность у алгоритма сортировки пузыриком\n",
        "\n",
        "\n",
        "\n",
        "*   O(n)\n",
        "\n",
        "*   O(n^3/2)\n",
        "*   **O(n^2)**\n",
        "\n",
        "\n",
        "*   O(nlog n)"
      ],
      "metadata": {
        "id": "bJIXiSGGe2fh"
      }
    },
    {
      "cell_type": "markdown",
      "source": [
        "# Какая строчка кода правильно вычисляет не високосный год?\n",
        "\n",
        "\n",
        "\n",
        "*   if year % 4 != 0 and (year % 100 == 0 and year % 400 != 0)\n",
        "\n",
        "*   **if year % 4 != 0 or (year % 100 == 0 and year % 400 != 0)**\n",
        "*   if year % 4 == 0 and (year % 100 != 0 and year % 400 == 0)\n",
        "\n",
        "\n",
        "*   if year % 4 == 0 and (year % 100 == 0 and year % 400 != 0)\n",
        "\n"
      ],
      "metadata": {
        "id": "PrYNs6slYeiZ"
      }
    },
    {
      "cell_type": "code",
      "source": [
        "year = 2000\n",
        "if year % 4 != 0 and (year % 100 == 0 and year % 400 != 0):\n",
        "  print('True')"
      ],
      "metadata": {
        "id": "-snBt3gsZxac"
      },
      "execution_count": null,
      "outputs": []
    },
    {
      "cell_type": "markdown",
      "source": [
        "# Какие из перечисленных ниже алгоритмов сортировки не требуют дополнительно O(n) памяти\n",
        "\n",
        "\n",
        "\n",
        "1.   **Сортировка Шелла**\n",
        "\n",
        "2.   **Сортировка вставками**\n",
        "3.   **Сортировка Хоара**\n",
        "\n",
        "\n",
        "4.   **Сортировка пузырьком**\n",
        "\n"
      ],
      "metadata": {
        "id": "lvLIyGOefR98"
      }
    },
    {
      "cell_type": "markdown",
      "source": [
        "# Укажите верные утверждения для массива и множества в питон\n",
        "\n",
        "\n",
        "\n",
        "1.   Элементы массива можно перебирать в цикле, а элементы множества из-за особого порядка хранения перебирать нельзя\n",
        "2.   **В массиве элементы хранятся в виде последовательного списка, а в множестве порядок хранения элементов не определён**\n",
        "3.   Размер массива фиксированный, а размер множества не ограничен\n",
        "4.   **Элементы множества хранятся не подряд, как в массиве, а в особом порядке. определяемом специальным алгоритмом**\n",
        "\n"
      ],
      "metadata": {
        "id": "29Ksg0ipgIaa"
      }
    },
    {
      "cell_type": "markdown",
      "source": [
        "# Дан массив array размером size. Что делает код ниже?"
      ],
      "metadata": {
        "id": "jjixd1v_7nh_"
      }
    },
    {
      "cell_type": "code",
      "source": [
        "size = 3\n",
        "\n",
        "imin = 0\n",
        "imax = 0\n",
        "\n",
        "array = [1, 2, 5, 6, 8]\n",
        "\n",
        "for i in range(size):\n",
        "  if array[i] < array[imin]:\n",
        "    imin = i\n",
        "  elif array[i] > array[imax]:\n",
        "    imax = i\n",
        "\n",
        "imin, imax"
      ],
      "metadata": {
        "colab": {
          "base_uri": "https://localhost:8080/"
        },
        "id": "_unqT84-7wjw",
        "outputId": "136db39a-0e76-4c2f-f2ad-014b6f5e1f94"
      },
      "execution_count": null,
      "outputs": [
        {
          "output_type": "execute_result",
          "data": {
            "text/plain": [
              "(0, 2)"
            ]
          },
          "metadata": {},
          "execution_count": 3
        }
      ]
    },
    {
      "cell_type": "markdown",
      "source": [
        "\n",
        "\n",
        "*   Ищет элементы массива меньше и больше нуля\n",
        "\n",
        "*   **Ищет позиции минимального и максимального элемента в массиве**\n",
        "*   Ищет итый элемент, который меньше минимального или больше максимального\n",
        "\n",
        "\n",
        "\n",
        "*   Ищет минимальный и максимальный элемент в массиве\n",
        "\n"
      ],
      "metadata": {
        "id": "vl6qovkF7yVy"
      }
    },
    {
      "cell_type": "markdown",
      "source": [
        "# Коллекция Counter - это:\n",
        "\n",
        "\n",
        "\n",
        "*   Упорядоченная по времени добавления ключа коллекция пар ключ-значение\n",
        "\n",
        "*   Упорядоченная по частоте вхождения коллекция пар ключ-значение, где значение - частота вхождения ключа\n",
        "*   **Неупорядоченная коллекция пар ключ - значение, где значение - частота вхождения ключа**\n",
        "\n",
        "\n",
        "*   Неупорядоченная коллекция пар ключ - значения, где значение зависит от функции по умолчанию.\n",
        "\n"
      ],
      "metadata": {
        "id": "sqJojEyW9NRS"
      }
    },
    {
      "cell_type": "markdown",
      "source": [
        "# Имеется коллекция кортежей ключ-значение. Какая строка кода поможет получить все значения для каждого из ключей."
      ],
      "metadata": {
        "id": "DuoA8ohNBXRs"
      }
    },
    {
      "cell_type": "markdown",
      "source": [
        "\n",
        "\n",
        "*   all_value = default_dict(dict)\n",
        "\n",
        "*   unique = default_dict(set)\n",
        "*   unique = default_dict(int)\n",
        "\n",
        "\n",
        "*   **unique = default_dict(list)**\n",
        "\n"
      ],
      "metadata": {
        "id": "2fJ2rboKB2PM"
      }
    },
    {
      "cell_type": "markdown",
      "source": [
        "# Какой метод позволит перенести пару ключ-значение из конца упорядоченного словаря дата в его начало\n",
        "\n",
        "\n",
        "\n",
        "*   data.move_to_end('my_key, first = True)\n",
        "\n",
        "*   data.move_to_start('my_key, last = True)\n",
        "*   **data.move_to_end('my_key, last = False)**\n",
        "\n",
        "\n",
        "*   data.rotate(1)\n",
        "\n"
      ],
      "metadata": {
        "id": "XqBMaaMEEldj"
      }
    },
    {
      "cell_type": "markdown",
      "source": [
        "# Какая коллекция из модуля коллектионс поможет записать  представленный ниже код в более компактном виде"
      ],
      "metadata": {
        "id": "18XEIhIC_ACM"
      }
    },
    {
      "cell_type": "code",
      "source": [
        "class Person:\n",
        "\n",
        "  def __init__(self, name, health):\n",
        "    self.name = name\n",
        "    self.health = health\n",
        "  def health_up(self):\n",
        "    self.health_up += 100"
      ],
      "metadata": {
        "id": "W9nJy_Vv_KaB"
      },
      "execution_count": null,
      "outputs": []
    },
    {
      "cell_type": "markdown",
      "source": [
        "\n",
        "\n",
        "*   Chain map\n",
        "\n",
        "*   Jrdered dict\n",
        "*   такой колекции нет или вот это\n",
        "\n",
        "\n",
        "*   **named tuple**\n",
        "\n"
      ],
      "metadata": {
        "id": "Cnd5ogY6_glv"
      }
    },
    {
      "cell_type": "markdown",
      "source": [
        "# Какой побитовой логической операции нет в Питон\n",
        "\n",
        "\n",
        "\n",
        "*   **a $ b**\n",
        "\n",
        "*   a | b\n",
        "*   a ^ b\n",
        "\n",
        "\n",
        "*   ~a\n",
        "\n",
        "\n",
        "\n",
        "\n",
        "\n",
        "\n",
        "\n",
        "\n"
      ],
      "metadata": {
        "id": "RRS-wjqPrWHj"
      }
    },
    {
      "cell_type": "markdown",
      "source": [
        "# Какие управляющие конструкции отсутсвуют в питон\n",
        "\n",
        "\n",
        "\n",
        "\n",
        "1.   **foreach**\n",
        "\n",
        "2.   else\n",
        "3.   **else if**\n",
        "\n",
        "\n",
        "4.   if\n",
        "\n",
        "\n",
        "\n"
      ],
      "metadata": {
        "id": "ZNtUX_5Trkrf"
      }
    },
    {
      "cell_type": "markdown",
      "source": [
        "\n",
        "# Какой алгоритм сортировки используется во встроенной в питон сортировке\n",
        "\n",
        "\n",
        "*   быстрая\n",
        "*   **тимсорт**\n",
        "\n",
        "\n",
        "*   шелла\n",
        "*   слиянием\n",
        "\n"
      ],
      "metadata": {
        "id": "saNKePkVr2lK"
      }
    },
    {
      "cell_type": "markdown",
      "source": [
        "# Что общего у сортировки выбором и сортировки вставками\n",
        "\n",
        "1.  Лучшее время сортировки равно O(n)\n",
        "2.  **Очередной элемент помещается на свою позицию в отсортированной части списка**\n",
        "3.  **Отстортированная часть элементов накапливается слева, в начале списка**\n",
        "4.  **Худшее время  сортировки равно O(n^2)**"
      ],
      "metadata": {
        "id": "ye2Tf6PTGdsH"
      }
    },
    {
      "cell_type": "markdown",
      "source": [
        "# Какой способ получения хэш- подписи самый надёжный из представленных?\n",
        "\n"
      ],
      "metadata": {
        "id": "tROFwX5GIEQq"
      }
    },
    {
      "cell_type": "code",
      "source": [
        "import hashlib\n",
        "\n",
        "s = hashlib.sha1(b'Hello').hexdigest()\n",
        "hashlib.sha1(b'dsadsa' + bytes(s.encode('utf-8'))).hexdigest()"
      ],
      "metadata": {
        "id": "UsSIS8a1JFMT"
      },
      "execution_count": null,
      "outputs": []
    },
    {
      "cell_type": "markdown",
      "source": [
        "# Что делает представленная ниже функция"
      ],
      "metadata": {
        "id": "sxBsLyXbK3lS"
      }
    },
    {
      "cell_type": "code",
      "source": [
        "ha = hashlib.sha1(a.encode('utf-8')).hexdigest()\n",
        "hb = hashlib.sha1(b.encode('utf-8')).hexdigest()\n",
        "\n",
        "    return ha == hb"
      ],
      "metadata": {
        "id": "EXZr1W3JLDLT"
      },
      "execution_count": null,
      "outputs": []
    },
    {
      "cell_type": "markdown",
      "source": [
        "\n",
        "\n",
        "*   Сравнивает два объекат по их шестнадцатиричному представлению\n",
        "\n",
        "*   **Сравнивает два объекта с помощью хэширования**\n",
        "*   Сравнивает два объекта по их коду в формате ютф-8\n",
        "\n",
        "\n",
        "*   **Сжимает два объекта и возвращает их хэш-равенство**\n",
        "\n"
      ],
      "metadata": {
        "id": "fjoRtlPFLk3s"
      }
    },
    {
      "cell_type": "markdown",
      "source": [
        "# Как называется структура, обеспечивающая многократное повторение одного действия или их совокупности?\n",
        "\n",
        "\n",
        "\n",
        "*   **Цикл**\n",
        "\n",
        "*   Круг\n",
        "*   Повторение\n",
        "\n",
        "\n",
        "*   Рецессия\n",
        "\n"
      ],
      "metadata": {
        "id": "vh3frj_RHnPT"
      }
    },
    {
      "cell_type": "markdown",
      "source": [
        "# Что из ниже сказанного верно для бинарного поиска\n",
        "\n",
        "1. Поиск в два раза быстрее, чем в классическом алгоритме поиска\n",
        "2. **Поиск использует метод деления на два**\n",
        "3. Поиск осуществляется в двоичном коде\n",
        "4. **Поиск ведётся в отсортированном наборе данных**"
      ],
      "metadata": {
        "id": "tQdQudwDMcIp"
      }
    },
    {
      "cell_type": "markdown",
      "source": [
        "# Что возвращает функция локалс\n",
        "\n",
        "\n",
        "\n",
        "*   список, содержащий локальные переменные текущей области видимости\n",
        "\n",
        "*   словарь, содержащий не глобальные переменные текущей области видимости\n",
        "*   **словарь, содержащий локальные переменные текущей области видимости**\n",
        "\n",
        "\n",
        "*   словарь, содержащий локальные переменные глобальной области видимости\n",
        "\n"
      ],
      "metadata": {
        "id": "q_TkMVmssHFe"
      }
    },
    {
      "cell_type": "markdown",
      "source": [
        "# Что выведет код?"
      ],
      "metadata": {
        "id": "o8cIRCdTv6A6"
      }
    },
    {
      "cell_type": "code",
      "source": [
        "from collections import deque\n",
        "\n",
        "\n",
        "d = deque([i  for i in range(5)], maxlen=7)\n",
        "d.append(5)\n",
        "d.appendleft(6)\n",
        "d.extend([7,8,9])\n",
        "d.extendleft([10,11])\n",
        "\n",
        "d"
      ],
      "metadata": {
        "colab": {
          "base_uri": "https://localhost:8080/"
        },
        "id": "CSJugMeljlgG",
        "outputId": "9c9c596d-6355-4dc3-c8b6-63578a7ff1dd"
      },
      "execution_count": null,
      "outputs": [
        {
          "output_type": "execute_result",
          "data": {
            "text/plain": [
              "deque([11, 10, 2, 3, 4, 5, 7])"
            ]
          },
          "metadata": {},
          "execution_count": 6
        }
      ]
    },
    {
      "cell_type": "markdown",
      "source": [
        "# Какое свойство отсутствует у алгоритмов?\n",
        "\n",
        "\n",
        "\n",
        "*   Дискретность\n",
        "\n",
        "*   Конечность\n",
        "*   **Множественность** Это неверно, но в картинке есть массовость\n",
        "\n",
        "\n",
        "*   Результативность\n",
        "\n"
      ],
      "metadata": {
        "id": "odba90MyvQwv"
      }
    },
    {
      "cell_type": "markdown",
      "source": [
        "# Какой алгоритм сортировки используется во встроенной в питон сортировки sorted\n",
        "\n",
        "\n",
        "\n",
        "*   Быстрая сортировка\n",
        "\n",
        "*   **сортировка Тимсорт**\n",
        "*   сортировка Шелла\n",
        "\n",
        "\n",
        "*   Сортировка слиянием\n",
        "\n"
      ],
      "metadata": {
        "id": "U0QhHXkb19IJ"
      }
    },
    {
      "cell_type": "markdown",
      "source": [
        "# Дана квадратная матрица размером сайз. Что делает данный код"
      ],
      "metadata": {
        "id": "2KRBmEZR3U1Y"
      }
    },
    {
      "cell_type": "code",
      "source": [
        "size = 3\n",
        "matrix = [[0 for i in range(size)]for _ in range(size)]\n",
        "\n",
        "for i in range(size):\n",
        "  for j in range(size):\n",
        "    if i == j:\n",
        "      matrix[i][j] = size\n",
        "\n",
        "matrix"
      ],
      "metadata": {
        "colab": {
          "base_uri": "https://localhost:8080/"
        },
        "id": "dWHnyZNm3bx8",
        "outputId": "4ea69e54-cd1b-47e5-c05b-e8e5477303ab"
      },
      "execution_count": null,
      "outputs": [
        {
          "output_type": "execute_result",
          "data": {
            "text/plain": [
              "[[3, 0, 0], [0, 3, 0], [0, 0, 3]]"
            ]
          },
          "metadata": {},
          "execution_count": 2
        }
      ]
    },
    {
      "cell_type": "markdown",
      "source": [
        "\n",
        "\n",
        "*   Производит обмен диагоналей матрицы\n",
        "\n",
        "*   **В диагональные элементы матрицы сохраняет размер матрицы**\n",
        "*   Сравнивает диагональные элементы матрицы с размером самой матрицы\n",
        "\n",
        "\n",
        "*   Проверяет соответствие матрицы её размеру\n"
      ],
      "metadata": {
        "id": "exjJjsv936jw"
      }
    }
  ]
}