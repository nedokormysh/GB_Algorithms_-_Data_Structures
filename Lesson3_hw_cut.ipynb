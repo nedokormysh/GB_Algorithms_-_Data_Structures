{
  "nbformat": 4,
  "nbformat_minor": 0,
  "metadata": {
    "colab": {
      "name": "Lesson3_hw_cut.ipynb",
      "provenance": [],
      "collapsed_sections": [],
      "authorship_tag": "ABX9TyNvXfjZFSsvsFBGH/pg+ws6",
      "include_colab_link": true
    },
    "kernelspec": {
      "name": "python3",
      "display_name": "Python 3"
    },
    "language_info": {
      "name": "python"
    }
  },
  "cells": [
    {
      "cell_type": "markdown",
      "metadata": {
        "id": "view-in-github",
        "colab_type": "text"
      },
      "source": [
        "<a href=\"https://colab.research.google.com/github/nedokormysh/GB_Algorithms_-_Data_Structures/blob/lesson3/Lesson3_hw_cut.ipynb\" target=\"_parent\"><img src=\"https://colab.research.google.com/assets/colab-badge.svg\" alt=\"Open In Colab\"/></a>"
      ]
    },
    {
      "cell_type": "code",
      "source": [
        "import random"
      ],
      "metadata": {
        "id": "fjBqQovMW-i_"
      },
      "execution_count": null,
      "outputs": []
    },
    {
      "cell_type": "markdown",
      "source": [
        "# Задание 1.\n",
        "\n",
        "В диапазоне натуральных чисел от 2 до 99 определить, сколько из них кратны каждому из чисел в диапазоне от 2 до 9. Примечание: 8 разных ответов."
      ],
      "metadata": {
        "id": "feQhM-g5OP4r"
      }
    },
    {
      "cell_type": "code",
      "execution_count": null,
      "metadata": {
        "colab": {
          "base_uri": "https://localhost:8080/"
        },
        "id": "YcuUpDRFNk-1",
        "outputId": "f1fcbd12-006b-4fbe-f00c-4489bbf1d234"
      },
      "outputs": [
        {
          "output_type": "stream",
          "name": "stdout",
          "text": [
            "Количество чисел делящихся на 2 = 49\n",
            "Количество чисел делящихся на 3 = 33\n",
            "Количество чисел делящихся на 4 = 24\n",
            "Количество чисел делящихся на 5 = 19\n",
            "Количество чисел делящихся на 6 = 16\n",
            "Количество чисел делящихся на 7 = 14\n",
            "Количество чисел делящихся на 8 = 12\n",
            "Количество чисел делящихся на 9 = 11\n"
          ]
        }
      ],
      "source": [
        "for i in range(2, 10):\n",
        "    count = 0\n",
        "    for j in range(2, 100):\n",
        "        if j % i == 0:\n",
        "            count += 1\n",
        "    print(f'Количество чисел делящихся на {i} = {count}')"
      ]
    },
    {
      "cell_type": "markdown",
      "source": [
        "# Задание 2.\n",
        "Во втором массиве сохранить индексы четных элементов первого массива.\n",
        "Например, если дан массив со значениями 8, 3, 15, 6, 4, 2, второй массив надо заполнить значениями 0, 3, 4, 5 (помните, что индексация начинается с нуля), т. к. именно в этих позициях первого массива стоят четные числа."
      ],
      "metadata": {
        "id": "s1fROoiSOq8q"
      }
    },
    {
      "cell_type": "code",
      "source": [
        "first_lst = [random.randint(0, 10) for _ in range(10)]\n",
        "print(f'Исходный массив: {first_lst}')\n",
        "\n",
        "second_lst = [i for i, item in enumerate(first_lst) if item % 2 == 0]\n",
        "print(f'Массив с индексами чётных элементов исходного массива: {second_lst}')"
      ],
      "metadata": {
        "colab": {
          "base_uri": "https://localhost:8080/"
        },
        "id": "XWWlS-GFOo0E",
        "outputId": "88ed088d-ad6f-4275-9727-73e34d36eced"
      },
      "execution_count": null,
      "outputs": [
        {
          "output_type": "stream",
          "name": "stdout",
          "text": [
            "Исходный массив: [1, 0, 9, 1, 7, 7, 6, 5, 10, 2]\n",
            "Массив с индексами чётных элементов исходного массива: [1, 6, 8, 9]\n"
          ]
        }
      ]
    },
    {
      "cell_type": "markdown",
      "source": [
        "# Задание 3.\n",
        "\n",
        "В массиве случайных целых чисел поменять местами минимальный и максимальный элементы."
      ],
      "metadata": {
        "id": "gw9Etj29XGoY"
      }
    },
    {
      "cell_type": "code",
      "source": [
        "n = 10\n",
        "rndmlst = [random.randint(-100, 100) for _ in range(0, n)]\n",
        "\n",
        "print(f'Исходный массив: {rndmlst}')\n",
        "\n",
        "max_i = 0\n",
        "min_i = 0\n",
        "\n",
        "for i in range(len(rndmlst)):\n",
        "    if rndmlst[i] > rndmlst[max_i]:\n",
        "        max_i = i\n",
        "    elif rndmlst[i] < rndmlst[min_i]:\n",
        "        min_i = i\n",
        "\n",
        "print(f'Минимальное число массива: {rndmlst[min_i]} находится под индексом {min_i} в исходном массиве.')\n",
        "print(f'Максимальное число массива: {rndmlst[max_i]} находится под индексом {max_i} в исходном массиве.')\n",
        "\n",
        "rndmlst[min_i], rndmlst[max_i] = rndmlst[max_i], rndmlst[min_i]\n",
        "\n",
        "print(f'Изменённый массив: {rndmlst}')"
      ],
      "metadata": {
        "colab": {
          "base_uri": "https://localhost:8080/"
        },
        "id": "V-NAR5UmXSr9",
        "outputId": "eed73dc3-f1b9-4c4d-d4ad-9f5e534666cb"
      },
      "execution_count": null,
      "outputs": [
        {
          "output_type": "stream",
          "name": "stdout",
          "text": [
            "Исходный массив: [-53, -45, -33, -88, -61, 86, 56, 89, 97, -82]\n",
            "Минимальное число массива: -88 находится под индексом 3 в исходном массиве.\n",
            "Максимальное число массива: 97 находится под индексом 8 в исходном массиве.\n",
            "Изменённый массив: [-53, -45, -33, 97, -61, 86, 56, 89, -88, -82]\n"
          ]
        }
      ]
    },
    {
      "cell_type": "markdown",
      "source": [
        "# Задание 4.\n",
        "\n",
        "Определить, какое число в массиве встречается чаще всего."
      ],
      "metadata": {
        "id": "9iIbOlbZ4Y-v"
      }
    },
    {
      "cell_type": "code",
      "source": [
        "n = 15\n",
        "x = 6\n",
        "\n",
        "rndmlst = [random.randint(0, x) for _ in range(n)]\n",
        "\n",
        "print(f'Исходный массив случайных чисел: {rndmlst}')\n",
        "\n",
        "d = dict.fromkeys(rndmlst, 0)\n",
        "\n",
        "for i in rndmlst:\n",
        "    d[i] += 1\n",
        "\n",
        "max_val = 1\n",
        "\n",
        "for key in d.keys():\n",
        "    if  d[key] > max_val:\n",
        "        max_val = d[key]\n",
        "        key_f = key\n",
        "\n",
        "other = []\n",
        "\n",
        "for key in d.keys():\n",
        "    if d[key] == max_val:\n",
        "        other.append(key)\n",
        "\n",
        "other.remove(key_f)\n",
        "\n",
        "if len(other) == 0:\n",
        "    print(f'Чаще всего в массиве встречается число: {key_f}. Оно встретилось {d[key_f]} раз(а)')\n",
        "else:\n",
        "    print(f'Чаще всего в массиве встречается число: {key_f}, столько же ({d[key_f]}) раз(а) в исходном массиве встречались числа из массива: {other}')"
      ],
      "metadata": {
        "colab": {
          "base_uri": "https://localhost:8080/"
        },
        "id": "mgM4nfM84fxX",
        "outputId": "639b114c-9ee9-44db-d4a7-879f1f77179b"
      },
      "execution_count": null,
      "outputs": [
        {
          "output_type": "stream",
          "name": "stdout",
          "text": [
            "Исходный массив случайных чисел: [6, 4, 6, 0, 3, 1, 0, 6, 6, 4, 4, 6, 4, 1, 4]\n",
            "Чаще всего в массиве встречается число: 6, столько же (5) раз(а) в исходном массиве встречались числа из массива: [4]\n"
          ]
        }
      ]
    },
    {
      "cell_type": "markdown",
      "source": [
        "# Задание 5.\n",
        "\n",
        "В массиве найти максимальный отрицательный элемент. Вывести на экран его значение и позицию в массиве."
      ],
      "metadata": {
        "id": "yDeP8O5OARdX"
      }
    },
    {
      "cell_type": "code",
      "source": [
        "n = 10\n",
        "\n",
        "rndmlst = [random.randint(-100, 100) for _ in range(n)]\n",
        "\n",
        "max_min = -float('inf')\n",
        "\n",
        "for el in range(len(rndmlst)):\n",
        "    if max_min < rndmlst[el] < 0:\n",
        "        max_min = rndmlst[el]\n",
        "        pos = el\n",
        "\n",
        "print(f'Исходный массив: {rndmlst}')\n",
        "print('Отрицательных чисел в массиве не было' if max_min == -float('inf') else f'Максимальный отрицательный элемент: {max_min}. Его позиция {pos}')"
      ],
      "metadata": {
        "colab": {
          "base_uri": "https://localhost:8080/"
        },
        "id": "XHdmMje6BKtH",
        "outputId": "6e36fccc-ae86-487a-de75-2e6eaa06453b"
      },
      "execution_count": null,
      "outputs": [
        {
          "output_type": "stream",
          "name": "stdout",
          "text": [
            "Исходный массив: [0, 96, 56, -28, 74, 67, 36, 60, -40, 31]\n",
            "Максимальный отрицательный элемент: -28. Его позиция 3\n"
          ]
        }
      ]
    },
    {
      "cell_type": "markdown",
      "source": [
        "# Задание 6.\n",
        "\n",
        "В одномерном массиве найти сумму элементов, находящихся между минимальным и максимальным элементами. Сами минимальный и максимальный элементы в сумму не включать."
      ],
      "metadata": {
        "id": "DZKy0d2-cBXF"
      }
    },
    {
      "cell_type": "code",
      "source": [
        "n = 5\n",
        "\n",
        "rndmlst = [random.randint(0, 100) for _ in range(n)]\n",
        "print(f'Исходный массив: {rndmlst}')\n",
        "\n",
        "max_i = 0\n",
        "min_i = 0\n",
        "\n",
        "for i in range(len(rndmlst)):\n",
        "    if rndmlst[i] > rndmlst[max_i]:\n",
        "        max_i = i\n",
        "    elif rndmlst[i] < rndmlst[min_i]:\n",
        "        min_i = i\n",
        "\n",
        "print(f'Максимальный элемент {rndmlst[max_i]} стоит на месте с индексом {max_i}')\n",
        "print(f'Минимальный элемент {rndmlst[min_i]} стоит на месте с индексом {min_i}')\n",
        "\n",
        "summ = 0\n",
        "\n",
        "if min_i > max_i:\n",
        "    min_i, max_i = max_i, min_i\n",
        "\n",
        "for j in range(min_i + 1, max_i):\n",
        "        summ += rndmlst[j]\n",
        "\n",
        "print(f'Сумма элементов между минимальным и максимальным равна: {summ}')"
      ],
      "metadata": {
        "colab": {
          "base_uri": "https://localhost:8080/"
        },
        "id": "fAAuQ31QcBr0",
        "outputId": "03ffcae0-8bba-4177-8fba-73edd94f13d0"
      },
      "execution_count": null,
      "outputs": [
        {
          "output_type": "stream",
          "name": "stdout",
          "text": [
            "Исходный массив: [30, 48, 39, 44, 86]\n",
            "Максимальный элемент 86 стоит на месте с индексом 4\n",
            "Минимальный элемент 30 стоит на месте с индексом 0\n",
            "Сумма элементов между минимальным и максимальным равна: 131\n"
          ]
        }
      ]
    }
  ]
}